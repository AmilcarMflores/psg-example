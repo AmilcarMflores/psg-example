{
 "cells": [
  {
   "cell_type": "markdown",
   "id": "f88a6bdb",
   "metadata": {},
   "source": [
    "# Tipos de datos"
   ]
  },
  {
   "cell_type": "markdown",
   "id": "04ff3dc8",
   "metadata": {},
   "source": [
    "## Datos numéricos"
   ]
  },
  {
   "cell_type": "markdown",
   "id": "8e8d2851",
   "metadata": {},
   "source": [
    "### Integers (int)"
   ]
  },
  {
   "cell_type": "code",
   "execution_count": 3,
   "id": "5d7b4441",
   "metadata": {},
   "outputs": [
    {
     "name": "stdout",
     "output_type": "stream",
     "text": [
      "20\n"
     ]
    }
   ],
   "source": [
    "numero_entero = int(20.0)\n",
    "print(numero_entero)"
   ]
  },
  {
   "cell_type": "markdown",
   "id": "e018e4f2",
   "metadata": {},
   "source": [
    "Declarando números enteros en otras bases numéricas:"
   ]
  },
  {
   "cell_type": "code",
   "execution_count": 4,
   "id": "4fdffe68",
   "metadata": {},
   "outputs": [
    {
     "name": "stdout",
     "output_type": "stream",
     "text": [
      "10\n",
      "10\n",
      "10\n",
      "10\n"
     ]
    }
   ],
   "source": [
    "numero_decimal = 10\n",
    "print(numero_decimal)\n",
    "\n",
    "numero_binario = 0b1010\n",
    "print(numero_binario)\n",
    "\n",
    "numero_octal = 0o12\n",
    "print(numero_octal)\n",
    "\n",
    "numero_hexadecimal = 0xa\n",
    "print(numero_hexadecimal)"
   ]
  },
  {
   "cell_type": "markdown",
   "id": "5c56894c",
   "metadata": {},
   "source": [
    "### Floating (float)"
   ]
  },
  {
   "cell_type": "code",
   "execution_count": 5,
   "id": "63d2a641",
   "metadata": {},
   "outputs": [
    {
     "name": "stdout",
     "output_type": "stream",
     "text": [
      "1.0\n"
     ]
    }
   ],
   "source": [
    "numero_float = float(1)\n",
    "print(numero_float)"
   ]
  },
  {
   "cell_type": "markdown",
   "id": "08c350de",
   "metadata": {},
   "source": [
    "Puedes usar notación científica con la letra **e** y el exponente:"
   ]
  },
  {
   "cell_type": "code",
   "execution_count": 6,
   "id": "f45cf758",
   "metadata": {},
   "outputs": [
    {
     "name": "stdout",
     "output_type": "stream",
     "text": [
      "0.002\n"
     ]
    }
   ],
   "source": [
    "numero_con_notacion_cientifica = 2.0e-3\n",
    "print(numero_con_notacion_cientifica)"
   ]
  },
  {
   "cell_type": "markdown",
   "id": "cccf1773",
   "metadata": {},
   "source": [
    "## Operaciones aritméticas"
   ]
  },
  {
   "cell_type": "code",
   "execution_count": 7,
   "id": "2099a49d",
   "metadata": {},
   "outputs": [
    {
     "name": "stdout",
     "output_type": "stream",
     "text": [
      "Suma\n",
      "13\n",
      "Resta\n",
      "7\n",
      "Multiplicación\n",
      "30\n",
      "División\n",
      "3.3333333333333335\n",
      "Potencia\n",
      "1000\n",
      "Módulo o residuo\n",
      "1\n",
      "División entera\n",
      "3\n"
     ]
    }
   ],
   "source": [
    "a = 10\n",
    "b = 3\n",
    "\n",
    "# Suma\n",
    "print (\"Suma\")\n",
    "print (a + b)\n",
    "\n",
    "# Resta\n",
    "print (\"Resta\")\n",
    "print (a - b)\n",
    "\n",
    "# Multiplicación\n",
    "print (\"Multiplicación\")\n",
    "print (a * b)\n",
    "\n",
    "# División\n",
    "print (\"División\")\n",
    "print (a / b)\n",
    "\n",
    "# Potencia\n",
    "print (\"Potencia\")\n",
    "print (a ** b)\n",
    "\n",
    "# Módulo o residuo\n",
    "print (\"Módulo o residuo\")\n",
    "print (a % b)\n",
    "\n",
    "# División entera\n",
    "print (\"División entera\")\n",
    "print (a // b)"
   ]
  },
  {
   "cell_type": "markdown",
   "id": "6b960325",
   "metadata": {},
   "source": [
    "## Ejercicio de clase"
   ]
  },
  {
   "cell_type": "markdown",
   "id": "19a8a3ea",
   "metadata": {},
   "source": [
    "Convertir tiempo en segundos y minutos a horas"
   ]
  },
  {
   "cell_type": "code",
   "execution_count": 8,
   "id": "b6b4dcda",
   "metadata": {},
   "outputs": [
    {
     "name": "stdout",
     "output_type": "stream",
     "text": [
      "Tiempo total en horas: 6.0\n"
     ]
    }
   ],
   "source": [
    "tiempo_minutos = 300\n",
    "tiempo_segundos = 3600\n",
    "\n",
    "# Convertir segundos a minutos\n",
    "segundos_a_minutos = tiempo_segundos / 60\n",
    "\n",
    "# Sumar ambos tiempos en minutos\n",
    "tiempo_total_minutos = tiempo_minutos + segundos_a_minutos\n",
    "\n",
    "# Convertir el total de minutos a horas\n",
    "tiempo_total_horas = tiempo_total_minutos / 60\n",
    "\n",
    "print(\"Tiempo total en horas:\", tiempo_total_horas)"
   ]
  },
  {
   "cell_type": "markdown",
   "id": "1e16b21b",
   "metadata": {},
   "source": [
    "## Operadores de comparación"
   ]
  },
  {
   "cell_type": "code",
   "execution_count": 9,
   "id": "27325fd9",
   "metadata": {},
   "outputs": [
    {
     "name": "stdout",
     "output_type": "stream",
     "text": [
      "entero = 10 tipo: <class 'int'>\n",
      "flotante = 10.0 tipo: <class 'float'>\n",
      "¿entero < flotante?: False\n",
      "¿entero > flotante?: False\n",
      "¿entero == flotante?: True\n",
      "¿entero <= flotante?: True\n",
      "¿entero >= flotante?: True\n",
      "¿entero != flotante?: False\n"
     ]
    }
   ],
   "source": [
    "entero = 10\n",
    "flotante = 10.0\n",
    "\n",
    "print(\"entero =\", entero, \"tipo:\", type(entero))\n",
    "print(\"flotante =\", flotante, \"tipo:\", type(flotante))\n",
    "\n",
    "# Comparaciones\n",
    "print(\"¿entero < flotante?:\", entero < flotante)\n",
    "print(\"¿entero > flotante?:\", entero > flotante)\n",
    "print(\"¿entero == flotante?:\", entero == flotante)\n",
    "print(\"¿entero <= flotante?:\", entero <= flotante)\n",
    "print(\"¿entero >= flotante?:\", entero >= flotante)\n",
    "print(\"¿entero != flotante?:\", entero != flotante)"
   ]
  }
 ],
 "metadata": {
  "kernelspec": {
   "display_name": "Python 3",
   "language": "python",
   "name": "python3"
  },
  "language_info": {
   "codemirror_mode": {
    "name": "ipython",
    "version": 3
   },
   "file_extension": ".py",
   "mimetype": "text/x-python",
   "name": "python",
   "nbconvert_exporter": "python",
   "pygments_lexer": "ipython3",
   "version": "3.13.1"
  }
 },
 "nbformat": 4,
 "nbformat_minor": 5
}
