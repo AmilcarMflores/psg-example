{
 "cells": [
  {
   "cell_type": "markdown",
   "id": "f88a6bdb",
   "metadata": {},
   "source": [
    "# Tipos de datos - Datos numéricos"
   ]
  },
  {
   "cell_type": "markdown",
   "id": "04ff3dc8",
   "metadata": {},
   "source": [
    "La función type, que funciona de forma parecida a print, nos permitirá identificar el tipo de dato de un valor:\n",
    "\n",
    "`type(valor)`"
   ]
  },
  {
   "cell_type": "code",
   "execution_count": 5,
   "id": "94fcc5cd",
   "metadata": {},
   "outputs": [
    {
     "name": "stdout",
     "output_type": "stream",
     "text": [
      "<class 'int'>\n"
     ]
    }
   ],
   "source": [
    "print(type(1))"
   ]
  },
  {
   "cell_type": "markdown",
   "id": "67200df2",
   "metadata": {},
   "source": [
    "`nombre_variable = \"valor\"`"
   ]
  },
  {
   "cell_type": "markdown",
   "id": "8607e5b8",
   "metadata": {},
   "source": [
    "Terminal interactiva -> `python` \n",
    "\n",
    "`>>> 1variable = 1`\n",
    "\n",
    "`>>> mas@ = 1`\n",
    "\n",
    "`>>> class = 1`"
   ]
  },
  {
   "cell_type": "markdown",
   "id": "fd8d6016",
   "metadata": {},
   "source": [
    "Es recomendable utilizar nombres de variables que contengan un contexto claro y describan lo que representan:"
   ]
  },
  {
   "cell_type": "code",
   "execution_count": null,
   "id": "347221ba",
   "metadata": {},
   "outputs": [
    {
     "name": "stdout",
     "output_type": "stream",
     "text": [
      "437.5\n"
     ]
    }
   ],
   "source": [
    "# No recomendable\n",
    "x1q3z9ahd = 35.0\n",
    "x1q3z9afd = 12.50\n",
    "x1q3p9afd = x1q3z9ahd * x1q3z9afd\n",
    "print(x1q3p9afd)"
   ]
  },
  {
   "cell_type": "code",
   "execution_count": 8,
   "id": "4f47d800",
   "metadata": {},
   "outputs": [
    {
     "name": "stdout",
     "output_type": "stream",
     "text": [
      "437.5\n"
     ]
    }
   ],
   "source": [
    "horas = 35.0\n",
    "tarifa = 12.50\n",
    "salario = horas * tarifa\n",
    "print(salario)"
   ]
  },
  {
   "cell_type": "markdown",
   "id": "27aaad11",
   "metadata": {},
   "source": [
    "## Datos numéricos\n",
    "\n",
    "### Números enteros"
   ]
  },
  {
   "cell_type": "markdown",
   "id": "8e8d2851",
   "metadata": {},
   "source": [
    "#### Integers (int)"
   ]
  },
  {
   "cell_type": "code",
   "execution_count": 9,
   "id": "93b0b118",
   "metadata": {},
   "outputs": [
    {
     "name": "stdout",
     "output_type": "stream",
     "text": [
      "10\n",
      "<class 'int'>\n"
     ]
    }
   ],
   "source": [
    "# Valor 10 Entero\n",
    "print (10)\n",
    "print ( type (10) )"
   ]
  },
  {
   "cell_type": "code",
   "execution_count": 10,
   "id": "5d7b4441",
   "metadata": {},
   "outputs": [
    {
     "name": "stdout",
     "output_type": "stream",
     "text": [
      "100\n",
      "<class 'int'>\n"
     ]
    }
   ],
   "source": [
    "# Variable 100 Entero\n",
    "variable = 100\n",
    "print (variable)\n",
    "print ( type (variable) )"
   ]
  },
  {
   "cell_type": "code",
   "execution_count": 11,
   "id": "c80f8821",
   "metadata": {},
   "outputs": [
    {
     "name": "stdout",
     "output_type": "stream",
     "text": [
      "20\n",
      "<class 'int'>\n"
     ]
    }
   ],
   "source": [
    "# Variable 20 Entero\n",
    "variable_2 = int (20)\n",
    "print (variable_2)\n",
    "print ( type (variable_2) )"
   ]
  },
  {
   "cell_type": "markdown",
   "id": "e018e4f2",
   "metadata": {},
   "source": [
    "Declarando números enteros en otras bases numéricas:"
   ]
  },
  {
   "cell_type": "code",
   "execution_count": 12,
   "id": "4fdffe68",
   "metadata": {},
   "outputs": [
    {
     "name": "stdout",
     "output_type": "stream",
     "text": [
      "Base decimal\n",
      "10\n",
      "Base binaria\n",
      "10\n",
      "Base octal\n",
      "10\n",
      "Base hexadecimal\n",
      "10\n"
     ]
    }
   ],
   "source": [
    "# Valor 10 en base decimal\n",
    "print (\"Base decimal\")\n",
    "print (10)\n",
    "# Valor 10 en binario\n",
    "print (\"Base binaria\")\n",
    "print (0b1010)\n",
    "# Valor 10 en octal\n",
    "print (\"Base octal\")\n",
    "print (0o12)\n",
    "# Valor 10 en hexadecimal\n",
    "print (\"Base hexadecimal\")\n",
    "print (0xa)"
   ]
  },
  {
   "cell_type": "code",
   "execution_count": 13,
   "id": "6b1e306d",
   "metadata": {},
   "outputs": [
    {
     "name": "stdout",
     "output_type": "stream",
     "text": [
      "123456789012345678901234567890123456789012345678901234567890\n",
      "<class 'int'>\n"
     ]
    }
   ],
   "source": [
    "# Entero con 60 dígitos\n",
    "variable_3 = 123456789012345678901234567890123456789012345678901234567890\n",
    "print (variable_3)\n",
    "print (type (variable_3))"
   ]
  },
  {
   "cell_type": "markdown",
   "id": "5c56894c",
   "metadata": {},
   "source": [
    "### Números con punto flotante\n",
    "\n",
    "#### Floating - float"
   ]
  },
  {
   "cell_type": "code",
   "execution_count": 14,
   "id": "63d2a641",
   "metadata": {},
   "outputs": [
    {
     "name": "stdout",
     "output_type": "stream",
     "text": [
      "0.5\n",
      "<class 'float'>\n"
     ]
    }
   ],
   "source": [
    "# Valor 0.5 Flotante\n",
    "print (0.5)\n",
    "print ( type (0.5) )"
   ]
  },
  {
   "cell_type": "code",
   "execution_count": 15,
   "id": "f5d1ef01",
   "metadata": {},
   "outputs": [
    {
     "name": "stdout",
     "output_type": "stream",
     "text": [
      "0.100546\n",
      "<class 'float'>\n"
     ]
    }
   ],
   "source": [
    "# Variable 0.100546 Flotante\n",
    "variable_4 = 0.100546\n",
    "print (variable_4)\n",
    "print ( type (variable_4) )"
   ]
  },
  {
   "cell_type": "code",
   "execution_count": 16,
   "id": "0ecd1b3e",
   "metadata": {},
   "outputs": [
    {
     "name": "stdout",
     "output_type": "stream",
     "text": [
      "1.0\n",
      "<class 'float'>\n"
     ]
    }
   ],
   "source": [
    "# Variable 1 Flotante\n",
    "variable_7 = float (1)\n",
    "print(variable_7)\n",
    "print ( type (variable_7) )"
   ]
  },
  {
   "cell_type": "markdown",
   "id": "08c350de",
   "metadata": {},
   "source": [
    "Puedes usar notación científica con la letra **e** y el exponente:"
   ]
  },
  {
   "cell_type": "code",
   "execution_count": 17,
   "id": "f45cf758",
   "metadata": {},
   "outputs": [
    {
     "name": "stdout",
     "output_type": "stream",
     "text": [
      "0.002\n",
      "<class 'float'>\n"
     ]
    }
   ],
   "source": [
    "# Valor 2.0e-3 Flotante\n",
    "variable_6 = 2.0e-3\n",
    "print(variable_6)\n",
    "print ( type (variable_6) )"
   ]
  },
  {
   "cell_type": "markdown",
   "id": "af4ac83d",
   "metadata": {},
   "source": [
    "Precisión máxima con 17 decimales:"
   ]
  },
  {
   "cell_type": "code",
   "execution_count": 18,
   "id": "22e76d29",
   "metadata": {},
   "outputs": [
    {
     "name": "stdout",
     "output_type": "stream",
     "text": [
      "0.9999999999999999\n",
      "<class 'float'>\n"
     ]
    }
   ],
   "source": [
    "# Precisión de 17 decimales\n",
    "variable_5 = 0.9999999999999999\n",
    "print(variable_5)\n",
    "print ( type (variable_5) )"
   ]
  },
  {
   "cell_type": "markdown",
   "id": "cccf1773",
   "metadata": {},
   "source": [
    "## Operaciones aritméticos"
   ]
  },
  {
   "cell_type": "code",
   "execution_count": 7,
   "id": "2099a49d",
   "metadata": {},
   "outputs": [
    {
     "name": "stdout",
     "output_type": "stream",
     "text": [
      "Suma\n",
      "13\n",
      "Resta\n",
      "7\n",
      "Multiplicación\n",
      "30\n",
      "División\n",
      "3.3333333333333335\n",
      "Potencia\n",
      "1000\n",
      "Módulo o residuo\n",
      "1\n",
      "División entera\n",
      "3\n"
     ]
    }
   ],
   "source": [
    "a = 10\n",
    "b = 3\n",
    "\n",
    "# Suma\n",
    "print (\"Suma\")\n",
    "print (a + b)\n",
    "\n",
    "# Resta\n",
    "print (\"Resta\")\n",
    "print (a - b)\n",
    "\n",
    "# Multiplicación\n",
    "print (\"Multiplicación\")\n",
    "print (a * b)\n",
    "\n",
    "# División\n",
    "print (\"División\")\n",
    "print (a / b)\n",
    "\n",
    "# Potencia\n",
    "print (\"Potencia\")\n",
    "print (a ** b)\n",
    "\n",
    "# Módulo o residuo\n",
    "print (\"Módulo o residuo\")\n",
    "print (a % b)\n",
    "\n",
    "# División entera\n",
    "print (\"División entera\")\n",
    "print (a // b)"
   ]
  },
  {
   "cell_type": "markdown",
   "id": "6b960325",
   "metadata": {},
   "source": [
    "## Ejercicio de clase"
   ]
  },
  {
   "cell_type": "markdown",
   "id": "19a8a3ea",
   "metadata": {},
   "source": [
    "Ejercicio 1 - Un contador tiene 300 minutos y se le suman 3600 segundos, ¿Cuántas horas en total son?"
   ]
  },
  {
   "cell_type": "code",
   "execution_count": 8,
   "id": "b6b4dcda",
   "metadata": {},
   "outputs": [
    {
     "name": "stdout",
     "output_type": "stream",
     "text": [
      "Tiempo total en horas: 6.0\n"
     ]
    }
   ],
   "source": [
    "tiempo_minutos = 300\n",
    "tiempo_segundos = 3600\n",
    "\n",
    "# Convertir segundos a minutos\n",
    "segundos_a_minutos = tiempo_segundos / 60\n",
    "\n",
    "# Sumar ambos tiempos en minutos\n",
    "tiempo_total_minutos = tiempo_minutos + segundos_a_minutos\n",
    "\n",
    "# Convertir el total de minutos a horas\n",
    "tiempo_total_horas = tiempo_total_minutos / 60\n",
    "\n",
    "print(\"Tiempo total en horas:\", tiempo_total_horas)"
   ]
  },
  {
   "cell_type": "markdown",
   "id": "1e16b21b",
   "metadata": {},
   "source": [
    "## Operadores de comparación"
   ]
  },
  {
   "cell_type": "code",
   "execution_count": 19,
   "id": "27325fd9",
   "metadata": {},
   "outputs": [
    {
     "name": "stdout",
     "output_type": "stream",
     "text": [
      "Operadores de comparación\n",
      "False\n",
      "False\n",
      "True\n",
      "True\n",
      "True\n",
      "False\n"
     ]
    }
   ],
   "source": [
    "print (\"Operadores de comparación\")\n",
    "comparar = 10\n",
    "print (comparar < 10)\n",
    "print (comparar > 10)\n",
    "print (comparar == 10)\n",
    "print (comparar <= 10)\n",
    "print (comparar >= 10)\n",
    "print (comparar != 10)"
   ]
  },
  {
   "cell_type": "code",
   "execution_count": null,
   "id": "2194da9f",
   "metadata": {},
   "outputs": [],
   "source": [
    "print (\"Operadores de comparación con int - float\")\n",
    "entero = 10\n",
    "flotante = 10.0\n",
    "print (entero < flotante)\n",
    "print (entero > flotante)\n",
    "print (entero == flotante)\n",
    "print (entero <= flotante)\n",
    "print (entero >= flotante)\n",
    "print (entero != flotante)"
   ]
  }
 ],
 "metadata": {
  "kernelspec": {
   "display_name": "Python 3",
   "language": "python",
   "name": "python3"
  },
  "language_info": {
   "codemirror_mode": {
    "name": "ipython",
    "version": 3
   },
   "file_extension": ".py",
   "mimetype": "text/x-python",
   "name": "python",
   "nbconvert_exporter": "python",
   "pygments_lexer": "ipython3",
   "version": "3.13.1"
  }
 },
 "nbformat": 4,
 "nbformat_minor": 5
}
