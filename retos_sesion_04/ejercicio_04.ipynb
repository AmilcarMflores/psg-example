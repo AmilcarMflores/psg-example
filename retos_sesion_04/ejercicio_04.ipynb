{
 "cells": [
  {
   "cell_type": "markdown",
   "id": "1984c4c5",
   "metadata": {},
   "source": [
    "# Juego de Aventura en la Jungla\n",
    "\n",
    "En este juego, los jugadores exploran una jungla llena de sorpresas. El objetivo es llegar al templo sagrado sin caer en trampas."
   ]
  },
  {
   "cell_type": "markdown",
   "id": "a256aa66",
   "metadata": {},
   "source": [
    "## Reglas del juego\n",
    "\n",
    "1. El jugador inicia en la posición (0, 0)\n",
    "2. Puede moverse arriba, abajo, izquierda o derecha\n",
    "3. El objetivo es llegar al templo en la posición (4, 4)\n",
    "4. Hay trampas escondidas en el camino\n",
    "5. Si caes en una trampa, pierdes el juego"
   ]
  },
  {
   "cell_type": "code",
   "execution_count": 1,
   "id": "bdf0d4ec",
   "metadata": {},
   "outputs": [
    {
     "name": "stdout",
     "output_type": "stream",
     "text": [
      "Tablero de la Jungla\n",
      "[P] [ ] [ ] [ ] [ ]\n",
      "[ ] [X] [ ] [ ] [ ]\n",
      "[ ] [ ] [ ] [X] [ ]\n",
      "[ ] [ ] [ ] [ ] [ ]\n",
      "[ ] [ ] [X] [ ] [T]\n"
     ]
    }
   ],
   "source": [
    "print(\"Tablero de la Jungla\")\n",
    "print(\"[P] [ ] [ ] [ ] [ ]\")\n",
    "print(\"[ ] [X] [ ] [ ] [ ]\")\n",
    "print(\"[ ] [ ] [ ] [X] [ ]\")\n",
    "print(\"[ ] [ ] [ ] [ ] [ ]\")\n",
    "print(\"[ ] [ ] [X] [ ] [T]\")"
   ]
  },
  {
   "cell_type": "markdown",
   "id": "c8850cc5",
   "metadata": {},
   "source": [
    "## Descripción de las piezas\n",
    "\n",
    "- [P] = Posición inicial del jugador\n",
    "- [T] = Templo sagrado (meta)\n",
    "- [X] = Trampa\n",
    "- [ ] = Espacio libre"
   ]
  },
  {
   "cell_type": "code",
   "execution_count": null,
   "id": "08365aae",
   "metadata": {},
   "outputs": [
    {
     "name": "stdout",
     "output_type": "stream",
     "text": [
      "Diseño de las piezas:\n",
      "P = Jugador\n",
      "T = Templo\n",
      "X = Trampa\n",
      "[ ] = Espacio vacío\n"
     ]
    }
   ],
   "source": [
    "print(\"Diseño de las piezas\")\n",
    "print(\"P = Jugador\")\n",
    "print(\"T = Templo\")\n",
    "print(\"X = Trampa\")\n",
    "print(\"[ ] = Espacio vacío\")"
   ]
  }
 ],
 "metadata": {
  "kernelspec": {
   "display_name": "Python 3",
   "language": "python",
   "name": "python3"
  },
  "language_info": {
   "codemirror_mode": {
    "name": "ipython",
    "version": 3
   },
   "file_extension": ".py",
   "mimetype": "text/x-python",
   "name": "python",
   "nbconvert_exporter": "python",
   "pygments_lexer": "ipython3",
   "version": "3.13.1"
  }
 },
 "nbformat": 4,
 "nbformat_minor": 5
}
