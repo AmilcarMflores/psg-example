{
 "cells": [
  {
   "cell_type": "markdown",
   "id": "035b4d76",
   "metadata": {},
   "source": [
    "# Ejercicio 02\n",
    "\n",
    "En este ejercicio se representa una figura artística utilizando símbolos en Python."
   ]
  },
  {
   "cell_type": "code",
   "execution_count": 4,
   "id": "16c34213",
   "metadata": {},
   "outputs": [
    {
     "name": "stdout",
     "output_type": "stream",
     "text": [
      "  ((()))\n",
      "  (=*o*=) \n",
      "   /| |\\\n",
      " C(     )\n",
      "   *   *\n"
     ]
    }
   ],
   "source": [
    "print(\"  ((()))\")\n",
    "print(\"  (=*o*=) \")\n",
    "print(\"   /| |\\\\\")\n",
    "print(\" C(     )\")\n",
    "print(\"   *   *\")"
   ]
  }
 ],
 "metadata": {
  "kernelspec": {
   "display_name": "Python 3",
   "language": "python",
   "name": "python3"
  },
  "language_info": {
   "codemirror_mode": {
    "name": "ipython",
    "version": 3
   },
   "file_extension": ".py",
   "mimetype": "text/x-python",
   "name": "python",
   "nbconvert_exporter": "python",
   "pygments_lexer": "ipython3",
   "version": "3.13.1"
  }
 },
 "nbformat": 4,
 "nbformat_minor": 5
}
