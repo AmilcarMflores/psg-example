{
 "cells": [
  {
   "cell_type": "markdown",
   "id": "a3119859",
   "metadata": {},
   "source": [
    "# Estructuras de datos - Diccionarios\n",
    "\n",
    "Almacena pares de elementos (clave-valor)\n"
   ]
  },
  {
   "cell_type": "markdown",
   "id": "e0318ed4",
   "metadata": {},
   "source": [
    "## Características:"
   ]
  },
  {
   "cell_type": "markdown",
   "id": "3172d5f1",
   "metadata": {},
   "source": [
    "- Mutable: los elementos pueden ser modificados después de su creación. "
   ]
  },
  {
   "cell_type": "code",
   "execution_count": null,
   "id": "3f88e873",
   "metadata": {},
   "outputs": [],
   "source": [
    "diccionario = {'perro': '🐶', 'gato': '🐱', 'ave': '🐦'}\n",
    "print(diccionario) # {'perro': '🐶', 'gato': '🐱', 'ave': '🐦'}\n",
    "diccionario['perro'] = '🐩'\n",
    "print(diccionario) # {'perro': '🐩', 'gato': '🐱', 'ave': '🐦'}"
   ]
  },
  {
   "cell_type": "markdown",
   "id": "a2c9bf36",
   "metadata": {},
   "source": [
    "- Ordenado: Mantienen el orden de inserción de los elementos."
   ]
  },
  {
   "cell_type": "code",
   "execution_count": 1,
   "id": "d71086f7",
   "metadata": {},
   "outputs": [
    {
     "name": "stdout",
     "output_type": "stream",
     "text": [
      "{'perro': '🐶', 'gato': '🐱', 'ave': '🐦'}\n"
     ]
    }
   ],
   "source": [
    "diccionario = {'perro': '🐶', 'gato': '🐱', 'ave': '🐦'}\n",
    "print(diccionario) # {'perro': '🐶', 'gato': '🐱', 'ave': '🐦'}"
   ]
  },
  {
   "cell_type": "markdown",
   "id": "b1e55eb8",
   "metadata": {},
   "source": [
    "- Indexado: Los elementos de un diccionario son indexados por claves."
   ]
  },
  {
   "cell_type": "code",
   "execution_count": null,
   "id": "900925d0",
   "metadata": {},
   "outputs": [],
   "source": [
    "diccionario = {'perro': '🐶', 'gato': '🐱', 'ave': '🐦'}\n",
    "print(diccionario['perro']) # 🐶\n",
    "print(diccionario['gato']) # 🐱"
   ]
  },
  {
   "cell_type": "markdown",
   "id": "cb776280",
   "metadata": {},
   "source": [
    "- Reescribe duplicados: Los diccionarios no permiten claves duplicadas se reescribe el valor de la clave."
   ]
  },
  {
   "cell_type": "code",
   "execution_count": null,
   "id": "6eaa8bf4",
   "metadata": {},
   "outputs": [],
   "source": [
    "diccionario = {'perro': '🐶', 'gato': '🐱', 'ave': '🐦', 'perro': '🐩'}\n",
    "print(diccionario) # {'perro': '🐩', 'gato': '🐱', 'ave': '🐦'}"
   ]
  },
  {
   "cell_type": "markdown",
   "id": "45d8b652",
   "metadata": {},
   "source": [
    "## ¿Cómo declarar un diccionario?"
   ]
  },
  {
   "cell_type": "markdown",
   "id": "6251caf4",
   "metadata": {},
   "source": [
    "`mi_diccionario = {'clave1': 'valor1', \n",
    "                  'clave2': 'valor2', \n",
    "                  'clave3': 'valor3', ... }`"
   ]
  },
  {
   "cell_type": "code",
   "execution_count": null,
   "id": "cc99c8f8",
   "metadata": {},
   "outputs": [],
   "source": [
    "print (\"Diccionario de clave entera y valor entero\")\n",
    "diccionario = {1: 10, 2: 20, 3: 30}\n",
    "print(diccionario)\n",
    "print(type(diccionario))"
   ]
  },
  {
   "cell_type": "code",
   "execution_count": null,
   "id": "3d15de42",
   "metadata": {},
   "outputs": [],
   "source": [
    "print (\"Diccionario de clave entero y valor cadena\")\n",
    "diccionario = {1: 'uno', 2: 'dos', 3: 'tres'}\n",
    "print(diccionario)\n",
    "print(type(diccionario))"
   ]
  },
  {
   "cell_type": "code",
   "execution_count": null,
   "id": "7e85218f",
   "metadata": {},
   "outputs": [],
   "source": [
    "print (\"Diccionario de clave cadena y valor entero\")\n",
    "diccionario = {'uno': 1, 'dos': 2, 'tres': 3}\n",
    "print(diccionario)\n",
    "print(type(diccionario))"
   ]
  },
  {
   "cell_type": "code",
   "execution_count": null,
   "id": "eb1617d4",
   "metadata": {},
   "outputs": [],
   "source": [
    "print (\"Diccionario de clave cadena y valor cadena\")\n",
    "diccionario = {'perro': '🐶', 'gato': '🐱', 'ave': '🐦'}\n",
    "print(diccionario)\n",
    "print(type(diccionario))"
   ]
  },
  {
   "cell_type": "code",
   "execution_count": null,
   "id": "db35f1ce",
   "metadata": {},
   "outputs": [],
   "source": [
    "print (\"Diccionario mixto\")\n",
    "diccionario = {1:\"ID-XXXXX\", \"edad\": 3, 'animal': '🐶' , (\"John\",\"Doe\"): 6917222722, \"salvaje\": False}\n",
    "print(diccionario)\n",
    "print(type(diccionario))"
   ]
  },
  {
   "cell_type": "code",
   "execution_count": null,
   "id": "aa34e3e5",
   "metadata": {},
   "outputs": [],
   "source": [
    "print (\"Diccionario vacío\")\n",
    "diccionario = {}\n",
    "print(diccionario)\n",
    "print(type(diccionario))\n",
    "diccionario = dict()\n",
    "print(diccionario)\n",
    "print(type(diccionario))"
   ]
  },
  {
   "cell_type": "code",
   "execution_count": null,
   "id": "0f5b0b01",
   "metadata": {},
   "outputs": [],
   "source": [
    "print (\"Diccionario a partir de una lista\")\n",
    "lista = [['perro', '🐶'] , ['gato','🐱'] , ['ave','🐦']]\n",
    "print(lista)\n",
    "diccionario = dict(lista)\n",
    "print(diccionario)\n",
    "print(type(diccionario))"
   ]
  },
  {
   "cell_type": "code",
   "execution_count": null,
   "id": "2bc6364a",
   "metadata": {},
   "outputs": [],
   "source": [
    "print (\"Diccionario a partir de una tupla de tuplas\")\n",
    "tupla = (('perro', '🐶') , ('gatos','🐱') , ('ave',['🐦','🦅']))\n",
    "print(tupla)\n",
    "diccionario = dict(tupla)\n",
    "print(diccionario)\n",
    "print(type(diccionario))"
   ]
  },
  {
   "cell_type": "code",
   "execution_count": null,
   "id": "129beb02",
   "metadata": {},
   "outputs": [],
   "source": [
    "print (\"Diccionario mediante comprensión\")\n",
    "diccionario = {animal:animal*3 for animal in '🐶🐱🐹🐰'}\n",
    "print(diccionario)\n",
    "print(type(diccionario))"
   ]
  },
  {
   "cell_type": "markdown",
   "id": "f77a41f0",
   "metadata": {},
   "source": [
    "### Indexación y slicing\n",
    "\n",
    "- Los diccionarios poseen indexación por clave\n",
    "\n",
    "- No se puede acceder a los elementos de un diccionario por posición\n",
    "\n",
    "- Si se puede acceder a los elementos de un diccionario por clave\n",
    "\n",
    "- No se puede realizar slicing en un diccionario"
   ]
  },
  {
   "cell_type": "code",
   "execution_count": null,
   "id": "ab330411",
   "metadata": {},
   "outputs": [],
   "source": [
    "print (\"Acceder mediante clave\")\n",
    "diccionario = {'perro': '🐶', 'gato': '🐱', 'ave': '🐦'}\n",
    "print(diccionario)\n",
    "print(diccionario['perro'],type(diccionario['perro']))\n",
    "print(diccionario['gato'],type(diccionario['gato']))\n",
    "print(diccionario['ave'],type(diccionario['ave']))"
   ]
  },
  {
   "cell_type": "code",
   "execution_count": null,
   "id": "0435249c",
   "metadata": {},
   "outputs": [],
   "source": [
    "print (\"Cambiar el valor de una clave\")\n",
    "diccionario = {'perro': '🐶', 'gato': '🐱', 'ave': '🐦'}\n",
    "print(diccionario)\n",
    "diccionario['perro'] = '🐩'\n",
    "print(diccionario)"
   ]
  },
  {
   "cell_type": "code",
   "execution_count": null,
   "id": "cf02a65c",
   "metadata": {},
   "outputs": [],
   "source": [
    "print (\"Crear un nuevo par clave-valor\")\n",
    "diccionario = {'perro': '🐶', 'gato': '🐱', 'ave': '🐦'}\n",
    "print(diccionario)\n",
    "diccionario['pez'] = '🐠'\n",
    "print(diccionario)"
   ]
  },
  {
   "cell_type": "code",
   "execution_count": null,
   "id": "5bad8048",
   "metadata": {},
   "outputs": [],
   "source": [
    "print (\"Eliminar un par clave-valor\")\n",
    "diccionario = {'perro': '🐶', 'gato': '🐱', 'ave': '🐦'}\n",
    "print(diccionario)\n",
    "del diccionario['ave']\n",
    "print(diccionario)"
   ]
  },
  {
   "cell_type": "code",
   "execution_count": null,
   "id": "ff2d177c",
   "metadata": {},
   "outputs": [],
   "source": [
    "print (\"Modificar la clave\")\n",
    "diccionario = {'perro': '🐶', 'gato': '🐱', 'ave': '🐦'}\n",
    "print(diccionario)\n",
    "diccionario['perrito'] = diccionario['perro']\n",
    "del diccionario['perro']\n",
    "print(diccionario)"
   ]
  },
  {
   "cell_type": "markdown",
   "id": "6842b2ae",
   "metadata": {},
   "source": [
    "### Concatenación de diccionarios"
   ]
  },
  {
   "cell_type": "code",
   "execution_count": null,
   "id": "e297a21b",
   "metadata": {},
   "outputs": [],
   "source": [
    "print (\"Concatenar diccionarios\")\n",
    "diccionario1 = {'perro': '🐶', 'gato': '🐱'}\n",
    "diccionario2 = {'ave': '🐦', 'pez': '🐠'}\n",
    "concatenado = diccionario1 + diccionario2 # TypeError: unsupported operand type(s) for +: 'dict' and 'dict'"
   ]
  },
  {
   "cell_type": "markdown",
   "id": "d4196e85",
   "metadata": {},
   "source": [
    "### Repetición de diccionarios"
   ]
  },
  {
   "cell_type": "code",
   "execution_count": 2,
   "id": "e7425630",
   "metadata": {},
   "outputs": [
    {
     "name": "stdout",
     "output_type": "stream",
     "text": [
      "Repetir diccionarios\n"
     ]
    }
   ],
   "source": [
    "print (\"Repetir diccionarios\")\n",
    "diccionario = {'perro': '🐶', 'gato': '🐱'}\n",
    "#repetido = diccionario * 3 # TypeError: unsupported operand type(s) for *: 'dict' and 'int'"
   ]
  },
  {
   "cell_type": "markdown",
   "id": "99b9f939",
   "metadata": {},
   "source": [
    "### Métodos de los diccionarios"
   ]
  },
  {
   "cell_type": "markdown",
   "id": "9a004509",
   "metadata": {},
   "source": [
    "#### Métodos de acceso"
   ]
  },
  {
   "cell_type": "code",
   "execution_count": null,
   "id": "91c0583d",
   "metadata": {},
   "outputs": [],
   "source": [
    "print (\"Método get(clave)\")\n",
    "diccionario = {'perro': '🐶', 'gato': '🐱', 'ave': '🐦'}\n",
    "print (diccionario)\n",
    "perro = diccionario.get('perro')\n",
    "print(perro, type(perro))\n",
    "pez = diccionario.get('pez')\n",
    "print(pez, type(pez))"
   ]
  },
  {
   "cell_type": "code",
   "execution_count": null,
   "id": "8ad5f214",
   "metadata": {},
   "outputs": [],
   "source": [
    "print (\"Método items()\")\n",
    "diccionario = {'perro': '🐶', 'gato': '🐱', 'ave': '🐦'}\n",
    "print(diccionario)\n",
    "items = diccionario.items()\n",
    "print(items, type(items))\n",
    "items = list(items) # Convertir a lista\n",
    "print(items, type(items))\n",
    "print(items[0], type(items[0]))"
   ]
  },
  {
   "cell_type": "code",
   "execution_count": null,
   "id": "a90df76b",
   "metadata": {},
   "outputs": [],
   "source": [
    "print (\"Método keys()\")\n",
    "diccionario = {'perro': '🐶', 'gato': '🐱', 'ave': '🐦'}\n",
    "print(diccionario)\n",
    "keys = diccionario.keys()\n",
    "print(keys, type(keys))\n",
    "keys = list(keys) # Convertir a lista\n",
    "print(keys, type(keys))\n",
    "print(keys[0], type(keys[0]))"
   ]
  },
  {
   "cell_type": "code",
   "execution_count": null,
   "id": "21ef7dfa",
   "metadata": {},
   "outputs": [],
   "source": [
    "print (\"Método values()\")\n",
    "diccionario = {'perro': '🐶', 'gato': '🐱', 'ave': '🐦'}\n",
    "print(diccionario)\n",
    "values = diccionario.values()\n",
    "print(values, type(values))\n",
    "values = list(values) # Convertir a lista\n",
    "print(values, type(values))\n",
    "print(values[0], type(values[0]))"
   ]
  },
  {
   "cell_type": "markdown",
   "id": "88f1fed5",
   "metadata": {},
   "source": [
    "#### Métodos de adición"
   ]
  },
  {
   "cell_type": "code",
   "execution_count": null,
   "id": "4deaebf4",
   "metadata": {},
   "outputs": [],
   "source": [
    "print (\"Método update(diccionario)\")\n",
    "diccionario = {'perro': '🐶', 'gato': '🐱', 'ave': '🐦'}\n",
    "print(diccionario)\n",
    "diccionario.update({'pez': '🐠', 'perro': '🐩'})\n",
    "print(diccionario)"
   ]
  },
  {
   "cell_type": "code",
   "execution_count": null,
   "id": "d8113aa6",
   "metadata": {},
   "outputs": [],
   "source": [
    "print (\"Método update(clave=valor)\")\n",
    "diccionario = {'perro': '🐶', 'gato': '🐱', 'ave': '🐦'}\n",
    "print(diccionario)\n",
    "diccionario.update(pez='🐠', perro='🐩')\n",
    "print(diccionario)"
   ]
  },
  {
   "cell_type": "markdown",
   "id": "61fea446",
   "metadata": {},
   "source": [
    "#### Métodos de eliminación"
   ]
  },
  {
   "cell_type": "code",
   "execution_count": null,
   "id": "6a81a76d",
   "metadata": {},
   "outputs": [],
   "source": [
    "print (\"Método clear()\")\n",
    "diccionario = {'perro': '🐶', 'gato': '🐱', 'ave': '🐦'}\n",
    "print(diccionario)\n",
    "diccionario.clear()\n",
    "print(diccionario)"
   ]
  },
  {
   "cell_type": "code",
   "execution_count": null,
   "id": "a0e7caac",
   "metadata": {},
   "outputs": [],
   "source": [
    "print (\"Método pop(clave)\")\n",
    "diccionario = {'perro': '🐶', 'gato': '🐱', 'ave': '🐦'}\n",
    "print(diccionario)\n",
    "gato = diccionario.pop('gato')\n",
    "print(gato, type(gato))\n",
    "print(diccionario)"
   ]
  },
  {
   "cell_type": "code",
   "execution_count": null,
   "id": "77a2021d",
   "metadata": {},
   "outputs": [],
   "source": [
    "print (\"Método popitem()\")\n",
    "diccionario = {'perro': '🐶', 'gato': '🐱'}\n",
    "print(diccionario)\n",
    "par = diccionario.popitem()\n",
    "print(par, type(par))\n",
    "print(diccionario)\n",
    "# par = diccionario.popitem()\n",
    "# print(par, type(par)) # KeyError: 'popitem(): dictionary is empty'"
   ]
  },
  {
   "cell_type": "markdown",
   "id": "4d206de1",
   "metadata": {},
   "source": [
    "#### Métodos de copia"
   ]
  },
  {
   "cell_type": "markdown",
   "id": "f8f6ab9c",
   "metadata": {},
   "source": [
    "Cuando se asigna un diccionario a una nueva variable se asigna por referencia, no se crea un dict nuevo sino una referencia al original."
   ]
  },
  {
   "cell_type": "code",
   "execution_count": 1,
   "id": "4a92a24b",
   "metadata": {},
   "outputs": [
    {
     "name": "stdout",
     "output_type": "stream",
     "text": [
      "Asignación por referencia\n",
      "{'perro': '🐶', 'gato': '🐱', 'ave': '🐦'}\n",
      "{'perro': '🐶', 'gato': '🐱', 'ave': '🐦'}\n",
      "{'perro': '🐶', 'gato': '🐱', 'ave': '🦅'}\n",
      "{'perro': '🐶', 'gato': '🐱', 'ave': '🦅'}\n"
     ]
    }
   ],
   "source": [
    "print (\"Asignación por referencia\")\n",
    "diccionario = {'perro': '🐶', 'gato': '🐱', 'ave': '🐦'}\n",
    "print(diccionario)\n",
    "copia = diccionario\n",
    "print(copia)\n",
    "copia['ave'] = '🦅'\n",
    "print(diccionario)\n",
    "print(copia)"
   ]
  },
  {
   "cell_type": "markdown",
   "id": "7f5985a2",
   "metadata": {},
   "source": [
    "Para crear una copia del diccionario se utiliza el método copy()"
   ]
  },
  {
   "cell_type": "code",
   "execution_count": 2,
   "id": "0995b4e3",
   "metadata": {},
   "outputs": [
    {
     "name": "stdout",
     "output_type": "stream",
     "text": [
      "Método copy()\n",
      "{'perro': '🐶', 'gato': '🐱', 'ave': '🐦'}\n",
      "{'perro': '🐶', 'gato': '🐱', 'ave': '🐦'}\n",
      "{'perro': '🐶', 'gato': '🐱', 'ave': '🐦'}\n",
      "{'perro': '🐶', 'gato': '🐱', 'ave': '🦅'}\n"
     ]
    }
   ],
   "source": [
    "print (\"Método copy()\")\n",
    "diccionario = {'perro': '🐶', 'gato': '🐱', 'ave': '🐦'}\n",
    "print(diccionario)\n",
    "copia = diccionario.copy()\n",
    "print(copia)\n",
    "copia['ave'] = '🦅'\n",
    "print(diccionario)\n",
    "print(copia)"
   ]
  },
  {
   "cell_type": "markdown",
   "id": "296792c9",
   "metadata": {},
   "source": [
    "### Funciones con diccionarios"
   ]
  },
  {
   "cell_type": "code",
   "execution_count": 4,
   "id": "e61e0134",
   "metadata": {},
   "outputs": [
    {
     "name": "stdout",
     "output_type": "stream",
     "text": [
      "Función len()\n",
      "{'perro': '🐶', 'gato': '🐱', 'ave': '🐦'}\n",
      "3\n"
     ]
    }
   ],
   "source": [
    "print (\"Función len()\")\n",
    "diccionario = {'perro': '🐶', 'gato': '🐱', 'ave': '🐦'}\n",
    "print(diccionario)\n",
    "longitud = len(diccionario)\n",
    "print(longitud)"
   ]
  },
  {
   "cell_type": "code",
   "execution_count": 3,
   "id": "e7d79df4",
   "metadata": {},
   "outputs": [
    {
     "name": "stdout",
     "output_type": "stream",
     "text": [
      "Función in  / not in\n",
      "{'perro': '🐶', 'gato': '🐱', 'ave': '🐦'}\n",
      "True <class 'bool'>\n",
      "True <class 'bool'>\n"
     ]
    }
   ],
   "source": [
    "print (\"Función in  / not in\")\n",
    "diccionario = {'perro': '🐶', 'gato': '🐱', 'ave': '🐦'}\n",
    "print(diccionario)\n",
    "existe = 'perro' in diccionario\n",
    "print(existe, type(existe))\n",
    "no_existe = 'pez' not in diccionario\n",
    "print(no_existe, type(no_existe))"
   ]
  },
  {
   "cell_type": "code",
   "execution_count": 5,
   "id": "076d8b25",
   "metadata": {},
   "outputs": [
    {
     "name": "stdout",
     "output_type": "stream",
     "text": [
      "Función iter()\n",
      "{'perro': '🐶', 'gato': '🐱', 'ave': '🐦'}\n",
      "<class 'dict_itemiterator'>\n",
      "('perro', '🐶') <class 'tuple'>\n",
      "('gato', '🐱') <class 'tuple'>\n",
      "('ave', '🐦') <class 'tuple'>\n"
     ]
    }
   ],
   "source": [
    "print (\"Función iter()\")\n",
    "diccionario = {'perro': '🐶', 'gato': '🐱', 'ave': '🐦'}\n",
    "print(diccionario)\n",
    "iterador = iter(diccionario.items())\n",
    "print(type(iterador))\n",
    "siguiente = next(iterador)\n",
    "print(siguiente, type(siguiente))\n",
    "siguiente = next(iterador)\n",
    "print(siguiente, type(siguiente))\n",
    "siguiente = next(iterador)\n",
    "print(siguiente, type(siguiente))"
   ]
  },
  {
   "cell_type": "markdown",
   "id": "5feee849",
   "metadata": {},
   "source": [
    "### Diccionarios anidados"
   ]
  },
  {
   "cell_type": "code",
   "execution_count": 6,
   "id": "8d86abc3",
   "metadata": {},
   "outputs": [
    {
     "name": "stdout",
     "output_type": "stream",
     "text": [
      "Diccionarios anidados\n",
      "{'perro': '🐶', 'gato': '🐱', 'ave': {'pajaro': '🐦', 'aguila': '🦅'}}\n",
      "{'pajaro': '🐦', 'aguila': '🦅'}\n",
      "🐦\n",
      "🦅\n"
     ]
    }
   ],
   "source": [
    "print (\"Diccionarios anidados\")\n",
    "diccionario = {'perro': '🐶', 'gato': '🐱',  'ave': {'pajaro': '🐦', 'aguila': '🦅'}}\n",
    "print(diccionario)\n",
    "aves = diccionario['ave']\n",
    "print(aves)\n",
    "ave = aves['pajaro']\n",
    "print(ave)\n",
    "ave = aves['aguila']\n",
    "print(ave)"
   ]
  }
 ],
 "metadata": {
  "kernelspec": {
   "display_name": "Python 3",
   "language": "python",
   "name": "python3"
  },
  "language_info": {
   "codemirror_mode": {
    "name": "ipython",
    "version": 3
   },
   "file_extension": ".py",
   "mimetype": "text/x-python",
   "name": "python",
   "nbconvert_exporter": "python",
   "pygments_lexer": "ipython3",
   "version": "3.13.1"
  }
 },
 "nbformat": 4,
 "nbformat_minor": 5
}
