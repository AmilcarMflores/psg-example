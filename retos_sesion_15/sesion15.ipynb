{
 "cells": [
  {
   "cell_type": "markdown",
   "id": "cfcd9a71",
   "metadata": {},
   "source": [
    "# Errores y Excepciones\n",
    "## Try - Except"
   ]
  },
  {
   "cell_type": "markdown",
   "id": "3ddc105b",
   "metadata": {},
   "source": [
    "Un error de sintaxis se produce cuando Python no puede interpretar nuestro código"
   ]
  },
  {
   "cell_type": "code",
   "execution_count": 1,
   "id": "63f018c1",
   "metadata": {},
   "outputs": [
    {
     "ename": "SyntaxError",
     "evalue": "unterminated string literal (detected at line 1) (3789200569.py, line 1)",
     "output_type": "error",
     "traceback": [
      "  \u001b[36mCell\u001b[39m\u001b[36m \u001b[39m\u001b[32mIn[1]\u001b[39m\u001b[32m, line 1\u001b[39m\n\u001b[31m    \u001b[39m\u001b[31mprint(\"Hola Mundo)\u001b[39m\n          ^\n\u001b[31mSyntaxError\u001b[39m\u001b[31m:\u001b[39m unterminated string literal (detected at line 1)\n"
     ]
    }
   ],
   "source": [
    "print(\"Hola Mundo)"
   ]
  },
  {
   "cell_type": "markdown",
   "id": "c82407a4",
   "metadata": {},
   "source": [
    "**¿Qué es una excepción?**\n",
    "\n",
    "Una excepción es un error que ocurre durante la ejecución de un programa."
   ]
  },
  {
   "cell_type": "markdown",
   "id": "7920be6f",
   "metadata": {},
   "source": [
    "Estructura de una excepción Simple:"
   ]
  },
  {
   "cell_type": "code",
   "execution_count": 3,
   "id": "f206ab81",
   "metadata": {},
   "outputs": [
    {
     "ename": "IndentationError",
     "evalue": "expected an indented block after 'try' statement on line 1 (1113378249.py, line 3)",
     "output_type": "error",
     "traceback": [
      "  \u001b[36mCell\u001b[39m\u001b[36m \u001b[39m\u001b[32mIn[3]\u001b[39m\u001b[32m, line 3\u001b[39m\n\u001b[31m    \u001b[39m\u001b[31mexcept Exception as e:\u001b[39m\n    ^\n\u001b[31mIndentationError\u001b[39m\u001b[31m:\u001b[39m expected an indented block after 'try' statement on line 1\n"
     ]
    }
   ],
   "source": [
    "try:\n",
    "    # Código que puede lanzar una excepción\n",
    "except Exception as e:\n",
    "    # Código que se ejecuta si se produce una excepción\n",
    "# Código que se ejecuta siempre fuera del bloque try-except"
   ]
  },
  {
   "cell_type": "markdown",
   "id": "7d709ff9",
   "metadata": {},
   "source": [
    "Ejemplo 1, División por cero"
   ]
  },
  {
   "cell_type": "code",
   "execution_count": 4,
   "id": "d7b0b94d",
   "metadata": {},
   "outputs": [
    {
     "name": "stdout",
     "output_type": "stream",
     "text": [
      "Inicio Ejemplo 1\n"
     ]
    },
    {
     "ename": "ZeroDivisionError",
     "evalue": "division by zero",
     "output_type": "error",
     "traceback": [
      "\u001b[31m---------------------------------------------------------------------------\u001b[39m",
      "\u001b[31mZeroDivisionError\u001b[39m                         Traceback (most recent call last)",
      "\u001b[36mCell\u001b[39m\u001b[36m \u001b[39m\u001b[32mIn[4]\u001b[39m\u001b[32m, line 2\u001b[39m\n\u001b[32m      1\u001b[39m \u001b[38;5;28mprint\u001b[39m (\u001b[33m\"\u001b[39m\u001b[33mInicio Ejemplo 1\u001b[39m\u001b[33m\"\u001b[39m)\n\u001b[32m----> \u001b[39m\u001b[32m2\u001b[39m x = \u001b[32;43m1\u001b[39;49m\u001b[43m \u001b[49m\u001b[43m/\u001b[49m\u001b[43m \u001b[49m\u001b[32;43m0\u001b[39;49m\n\u001b[32m      3\u001b[39m \u001b[38;5;28mprint\u001b[39m (x)\n\u001b[32m      4\u001b[39m \u001b[38;5;28mprint\u001b[39m (\u001b[33m\"\u001b[39m\u001b[33mFin Ejemplo 1\u001b[39m\u001b[33m\"\u001b[39m)\n",
      "\u001b[31mZeroDivisionError\u001b[39m: division by zero"
     ]
    }
   ],
   "source": [
    "print (\"Inicio Ejemplo 1\")\n",
    "x = 1 / 0\n",
    "print (x)\n",
    "print (\"Fin Ejemplo 1\")"
   ]
  },
  {
   "cell_type": "code",
   "execution_count": 5,
   "id": "fb9ded33",
   "metadata": {},
   "outputs": [
    {
     "name": "stdout",
     "output_type": "stream",
     "text": [
      "Inicio Ejemplo 1\n",
      "💀 Error: division by zero <class 'ZeroDivisionError'>\n",
      "Fin Ejemplo 1\n"
     ]
    }
   ],
   "source": [
    "print (\"Inicio Ejemplo 1\")\n",
    "try:\n",
    "    x = 1 / 0\n",
    "    print (x)\n",
    "except Exception as e:\n",
    "    print(\"💀 Error:\", e, type(e))\n",
    "print (\"Fin Ejemplo 1\")"
   ]
  },
  {
   "cell_type": "markdown",
   "id": "96afc0cc",
   "metadata": {},
   "source": [
    "Ejercicio 1, Crear un programa que solicite dos números y realice la división de ambos números Si hay un error mostrar un mensaje de error El programa se detiene si se ingresa \"salir\""
   ]
  },
  {
   "cell_type": "code",
   "execution_count": 6,
   "id": "4d995f87",
   "metadata": {},
   "outputs": [
    {
     "name": "stdout",
     "output_type": "stream",
     "text": [
      "💀 Error: could not convert string to float: 'sdf'\n"
     ]
    }
   ],
   "source": [
    "while True:\n",
    "    try:\n",
    "        num1 = input(\"Ingrese el primer número: \")\n",
    "        if num1 == \"salir\":\n",
    "            break\n",
    "        num2 = input(\"Ingrese el segundo número: \")\n",
    "        if num2 == \"salir\":\n",
    "            break\n",
    "        num1 = float(num1)\n",
    "        num2 = float(num2)\n",
    "        print(\"Resultado:\", num1 / num2)\n",
    "    except Exception as e:\n",
    "        print(\"💀 Error:\", e)"
   ]
  },
  {
   "cell_type": "markdown",
   "id": "8e6fe404",
   "metadata": {},
   "source": [
    "## Excepciones múltiples"
   ]
  },
  {
   "cell_type": "code",
   "execution_count": null,
   "id": "1f1b947c",
   "metadata": {},
   "outputs": [],
   "source": [
    "try:\n",
    "    # Código que puede lanzar una excepción\n",
    "except ZeroDivisionError as e:\n",
    "    # Código si se produce una excepción de división por cero\n",
    "except Exception as e:\n",
    "    # Código si se produce una excepción genérica"
   ]
  },
  {
   "cell_type": "markdown",
   "id": "f30f3bd5",
   "metadata": {},
   "source": [
    "Ejemplo 2, División por cero"
   ]
  },
  {
   "cell_type": "code",
   "execution_count": 7,
   "id": "5a7b4fab",
   "metadata": {},
   "outputs": [
    {
     "name": "stdout",
     "output_type": "stream",
     "text": [
      "Inicio Ejemplo 2\n",
      "0️⃣ Error: division by zero <class 'ZeroDivisionError'>\n",
      "Fin Ejemplo 2\n"
     ]
    }
   ],
   "source": [
    "print (\"Inicio Ejemplo 2\")\n",
    "divisor = 0\n",
    "try:\n",
    "    x = 1 / divisor\n",
    "    print (x)\n",
    "except ZeroDivisionError as e:\n",
    "    print(\"0️⃣ Error:\", e, type(e))\n",
    "except Exception as e:\n",
    "    print(\"💀 Error:\", e, type(e))\n",
    "print (\"Fin Ejemplo 2\")"
   ]
  },
  {
   "cell_type": "code",
   "execution_count": 8,
   "id": "29fb96f9",
   "metadata": {},
   "outputs": [
    {
     "name": "stdout",
     "output_type": "stream",
     "text": [
      "Inicio Ejemplo 2\n",
      "💀 Error: unsupported operand type(s) for /: 'int' and 'str' <class 'TypeError'>\n",
      "Fin Ejemplo 2\n"
     ]
    }
   ],
   "source": [
    "print (\"Inicio Ejemplo 2\")\n",
    "divisor = \"0\"\n",
    "try:\n",
    "    x = 1 / divisor\n",
    "    print (x)\n",
    "except ZeroDivisionError as e:\n",
    "    print(\"0️⃣ Error:\", e, type(e))\n",
    "except Exception as e:\n",
    "    print(\"💀 Error:\", e, type(e))\n",
    "print (\"Fin Ejemplo 2\")"
   ]
  },
  {
   "cell_type": "markdown",
   "id": "76c242a6",
   "metadata": {},
   "source": [
    "Jerarquía de excepciones\n",
    "\n",
    "Ejemplo 2, División por cero"
   ]
  },
  {
   "cell_type": "code",
   "execution_count": 9,
   "id": "52935399",
   "metadata": {},
   "outputs": [
    {
     "name": "stdout",
     "output_type": "stream",
     "text": [
      "Inicio Ejemplo 2\n",
      "💀 Error: division by zero <class 'ZeroDivisionError'>\n",
      "Fin Ejemplo 2\n"
     ]
    }
   ],
   "source": [
    "print (\"Inicio Ejemplo 2\")\n",
    "divisor = 0\n",
    "try:\n",
    "    x = 1 / divisor\n",
    "    print (x)\n",
    "except Exception as e: # Captura cualquier excepción\n",
    "    print(\"💀 Error:\", e, type(e))\n",
    "except ZeroDivisionError as e:\n",
    "    print(\"0️⃣ Error:\", e, type(e))\n",
    "print (\"Fin Ejemplo 2\")"
   ]
  },
  {
   "cell_type": "markdown",
   "id": "3f42edde",
   "metadata": {},
   "source": [
    "Ejemplo 3, De la lista de calificaciones obtener el promedio"
   ]
  },
  {
   "cell_type": "code",
   "execution_count": 10,
   "id": "c8d673cf",
   "metadata": {},
   "outputs": [
    {
     "name": "stdout",
     "output_type": "stream",
     "text": [
      "🎭 Error: unsupported operand type(s) for +=: 'int' and 'str' <class 'TypeError'>\n"
     ]
    }
   ],
   "source": [
    "calificaciones = [20,40,80,\"A\"]\n",
    "suma = 0\n",
    "try:\n",
    "    for i in range(len(calificaciones)+1):\n",
    "        suma += calificaciones[i] \n",
    "    promedio = suma / len(calificaciones)\n",
    "    print(\"Promedio:\", promedio)\n",
    "except ZeroDivisionError as e:\n",
    "    print(\"0️⃣ Error:\", e, type(e))\n",
    "except TypeError as e:\n",
    "    print(\"🎭 Error:\", e, type(e))\n",
    "except Exception as e:\n",
    "    print(\"💀 Error:\", e, type(e))"
   ]
  },
  {
   "cell_type": "code",
   "execution_count": null,
   "id": "deb0a626",
   "metadata": {},
   "outputs": [],
   "source": [
    "calificaciones = [20,40,80]\n",
    "suma = 0\n",
    "try:\n",
    "    for i in range(len(calificaciones)+1):\n",
    "        suma += calificaciones[i]\n",
    "    promedio = suma / len(calificaciones)\n",
    "    print(\"Promedio:\", promedio)\n",
    "except ZeroDivisionError as e:\n",
    "    print(\"0️⃣ Error:\", e, type(e))\n",
    "except TypeError as e:\n",
    "    print(\"🎭 Error:\", e, type(e))\n",
    "except Exception as e: # Captura cualquier excepción\n",
    "    print(\"💀 Error:\", e, type(e))"
   ]
  },
  {
   "cell_type": "code",
   "execution_count": null,
   "id": "314e412b",
   "metadata": {},
   "outputs": [],
   "source": [
    "calificaciones = [20,40,80]\n",
    "suma = 0\n",
    "try:\n",
    "    for i in range(len(calificaciones)):\n",
    "        suma += calificaciones[i] # suma = suma + calificaciones[i]\n",
    "    promedio = suma / len(calificaciones)\n",
    "    print(\"Promedio:\", promedio)\n",
    "except ZeroDivisionError as e:\n",
    "    print(\"0️⃣ Error:\", e, type(e))\n",
    "except TypeError as e:\n",
    "    print(\"🎭 Error:\", e, type(e))\n",
    "except Exception as e:\n",
    "    print(\"💀 Error:\", e, type(e))"
   ]
  },
  {
   "cell_type": "markdown",
   "id": "a4fdeb89",
   "metadata": {},
   "source": [
    "### Bloque else"
   ]
  },
  {
   "cell_type": "code",
   "execution_count": null,
   "id": "c228bea7",
   "metadata": {},
   "outputs": [],
   "source": [
    "try:\n",
    "    # Código que puede lanzar una excepción\n",
    "except Exception as e:\n",
    "    # Código si se produce una excepción\n",
    "else:\n",
    "    # Código si no se produce ninguna excepción"
   ]
  },
  {
   "cell_type": "markdown",
   "id": "6f056edf",
   "metadata": {},
   "source": [
    "Ejemplo 4, De la lista de calificaciones obtener el promedio"
   ]
  },
  {
   "cell_type": "code",
   "execution_count": null,
   "id": "50003806",
   "metadata": {},
   "outputs": [],
   "source": [
    "print (\"Inicio Ejemplo 4\")\n",
    "calificaciones = [20,40,80]\n",
    "suma = 0\n",
    "try:\n",
    "    for i in range(len(calificaciones)):\n",
    "        suma += calificaciones[i]\n",
    "    promedio = suma / len(calificaciones)\n",
    "    print(\"Promedio:\", promedio)\n",
    "except Exception as e:\n",
    "    print(\"💀 Error:\", e, type(e))\n",
    "else:\n",
    "    print (\"🎉 Sin errores\")\n",
    "print (\"Fin Ejemplo 4\")"
   ]
  },
  {
   "cell_type": "markdown",
   "id": "a5c89551",
   "metadata": {},
   "source": [
    "Ejercicio 2, Crear un programa que solicite dos números y mediante una función devuelva la división de ambos\n",
    "Si hay un error mostrar un mensaje de error. El programa se detiene si se ingresa \"salir\"\n",
    "Añadir un bloque else que muestre el resultado de la función"
   ]
  },
  {
   "cell_type": "code",
   "execution_count": null,
   "id": "8aeef7fc",
   "metadata": {},
   "outputs": [],
   "source": [
    "def division(num1, num2):\n",
    "    return num1 / num2\n",
    "\n",
    "while True:\n",
    "    try:\n",
    "        num1 = input(\"Ingrese el primer número: \")\n",
    "        if num1 == \"salir\":\n",
    "            break\n",
    "        num2 = input(\"Ingrese el segundo número: \")\n",
    "        if num2 == \"salir\":\n",
    "            break\n",
    "        num1 = float(num1)\n",
    "        num2 = float(num2)\n",
    "        resultado = division(num1, num2))\n",
    "    except Exception as e:\n",
    "        print(\"💀 Error:\", e)\n",
    "    else:\n",
    "        print(\"🎉 Resultado: \",resultado)"
   ]
  },
  {
   "cell_type": "markdown",
   "id": "52d7b145",
   "metadata": {},
   "source": [
    "### Bloque finally"
   ]
  },
  {
   "cell_type": "code",
   "execution_count": null,
   "id": "acf43682",
   "metadata": {},
   "outputs": [],
   "source": [
    "try:\n",
    "    # Código que puede lanzar una excepción\n",
    "except Exception as e:\n",
    "    # Código si se produce una excepción\n",
    "else:\n",
    "    # Código si no se produce ninguna excepción\n",
    "finally:\n",
    "    # Código que se ejecuta siempre"
   ]
  },
  {
   "cell_type": "markdown",
   "id": "97da7be3",
   "metadata": {},
   "source": [
    "Ejemplo 5, Simula una conexión a internet que haga ping y cerrar la conexión"
   ]
  },
  {
   "cell_type": "code",
   "execution_count": 11,
   "id": "3d9c7619",
   "metadata": {},
   "outputs": [
    {
     "name": "stdout",
     "output_type": "stream",
     "text": [
      "Inicio Ejemplo 5\n",
      "🔗 Ping...\n",
      "🎉 Ping Exitoso\n",
      "🔌 Cerrando conexión\n"
     ]
    }
   ],
   "source": [
    "print (\"Inicio Ejemplo 5\")\n",
    "try:\n",
    "    print(\"🔗 Ping...\")\n",
    "except Exception as e:\n",
    "    print(\"💀 Error:\", e)\n",
    "else:\n",
    "    print(\"🎉 Ping Exitoso\")\n",
    "finally:\n",
    "    print(\"🔌 Cerrando conexión\")"
   ]
  },
  {
   "cell_type": "markdown",
   "id": "26136be0",
   "metadata": {},
   "source": [
    "### Raise"
   ]
  },
  {
   "cell_type": "code",
   "execution_count": null,
   "id": "0e0839f8",
   "metadata": {},
   "outputs": [],
   "source": [
    "raise Exception(\"Mensaje de error\")"
   ]
  },
  {
   "cell_type": "markdown",
   "id": "730173ea",
   "metadata": {},
   "source": [
    "Ejemplo 6, Simula una conexión a internet que haga ping y cerrar la conexión"
   ]
  },
  {
   "cell_type": "code",
   "execution_count": null,
   "id": "4de2fb40",
   "metadata": {},
   "outputs": [],
   "source": [
    "print (\"Inicio Ejemplo 6\")\n",
    "try:\n",
    "    print(\"🔗 Ping...\")\n",
    "    raise Exception(\"Error de conexión\") #Excepción genérica\n",
    "except Exception as e: # Captura cualquier excepción\n",
    "    print(\"💀 Error:\", e)\n",
    "else:\n",
    "    print(\"🎉 Ping Exitoso\")\n",
    "finally:\n",
    "    print(\"🔌 Cerrando conexión\")"
   ]
  },
  {
   "cell_type": "markdown",
   "id": "c3af0a98",
   "metadata": {},
   "source": [
    "Ejercicio 3, Escriba un programa que solicite un número por teclado y se almacene en una lista\n",
    "Si es 0 se genera una excepción\n",
    "Si la ejecución es correcta muestra \"🎉Agregado\"\n",
    "Termina la ejecución sólo con la palabra \"salir\" utilizar la excepción KeyboardInterrupt\n",
    "Finalmente imprima siempre la suma de los números y la lista"
   ]
  },
  {
   "cell_type": "code",
   "execution_count": null,
   "id": "17ae74a0",
   "metadata": {},
   "outputs": [],
   "source": [
    "numeros = []\n",
    "while True:\n",
    "    try:\n",
    "        num = input(\"Ingrese un número: \")\n",
    "        if num == \"salir\":\n",
    "            break\n",
    "        num = float(num)\n",
    "        if num == 0:\n",
    "            raise Exception(\"No se puede agregar el número 0\")\n",
    "        numeros.append(num)\n",
    "    except KeyboardInterrupt as e:\n",
    "        print('🚫 Para salir escriba \"salir\"')\n",
    "    except Exception as e:\n",
    "        print(\"💀 Error:\", e)\n",
    "    else:\n",
    "        print(\"🎉 Número agregado\")\n",
    "    finally:\n",
    "        print(\"Suma:\", sum(numeros))"
   ]
  },
  {
   "cell_type": "markdown",
   "id": "c9385405",
   "metadata": {},
   "source": [
    "### Pass"
   ]
  },
  {
   "cell_type": "markdown",
   "id": "70be282b",
   "metadata": {},
   "source": [
    "Ejemplo 7, Crea una función que no hace nada"
   ]
  },
  {
   "cell_type": "code",
   "execution_count": null,
   "id": "e76d8bea",
   "metadata": {},
   "outputs": [],
   "source": [
    "print(\"Inicio Ejemplo 7\")\n",
    "def funcion():\n",
    "    pass\n",
    "\n",
    "funcion()\n",
    "print(\"Fin Ejemplo 7\")"
   ]
  },
  {
   "cell_type": "markdown",
   "id": "822840de",
   "metadata": {},
   "source": [
    "### Excepciones personalizadas"
   ]
  },
  {
   "cell_type": "code",
   "execution_count": null,
   "id": "326dc7f3",
   "metadata": {},
   "outputs": [],
   "source": [
    "class MiError(Exception):\n",
    "    pass\n",
    "\n",
    "raise MiError(\"Mensaje de error\")"
   ]
  },
  {
   "cell_type": "markdown",
   "id": "8aa3c1cf",
   "metadata": {},
   "source": [
    "Ejemplo 8, Tienes un frutero, saca las frutas mientras no sea un gusano y genera una excepción"
   ]
  },
  {
   "cell_type": "code",
   "execution_count": null,
   "id": "6e210d02",
   "metadata": {},
   "outputs": [],
   "source": [
    "print(\"Inicio Ejemplo 8\")\n",
    "class GusanoError(Exception):\n",
    "    pass\n",
    "\n",
    "frutero = ['🍎', '🍌', '🍐', '🐛', '🍇']\n",
    "for fruta in frutero:\n",
    "    try:\n",
    "        if fruta == '🐛':\n",
    "            raise GusanoError(\"😱 Ewww!\")\n",
    "        print(fruta)\n",
    "    except GusanoError as e:\n",
    "        print(\"🐛 Error:\", e)\n",
    "    except Exception as e:\n",
    "        print(\"💀 Error:\", e)\n",
    "print(\"Fin Ejemplo 8\")"
   ]
  },
  {
   "cell_type": "markdown",
   "id": "f3c6e62f",
   "metadata": {},
   "source": [
    "Ejercicio 4, Crear un programa que solicite palabras por teclado y almacene en una lista\n",
    "Si se inserta caracteres no alfabéticos se genera una excepción personalizada y no se almacena\n",
    "Si se ingresa \"salir\" se termina la ejecución\n",
    "Mostrar el mensaje \"🎉 Palabra agregada\" si no hay errores\n",
    "Finalmente imprimir la lista de palabras"
   ]
  },
  {
   "cell_type": "code",
   "execution_count": null,
   "id": "1d6cd83d",
   "metadata": {},
   "outputs": [],
   "source": [
    "class NoAlfabeticoError(Exception):\n",
    "    pass\n",
    "\n",
    "palabras = []\n",
    "while True:\n",
    "    try:\n",
    "        palabra = input(\"Ingrese una palabra: \")\n",
    "        if palabra == \"salir\":\n",
    "            break\n",
    "        if not palabra.isalpha():\n",
    "            raise NoAlfabeticoError(\"Solo se permiten letras\")\n",
    "        palabras.append(palabra)\n",
    "    except NoAlfabeticoError as e:\n",
    "        print(\"🚫 Error:\", e)\n",
    "    except Exception as e:\n",
    "        print(\"💀 Error:\", e)\n",
    "    else:\n",
    "        print(\"🎉 Palabra agregada\")\n",
    "    finally:\n",
    "        print(\"Lista:\", palabras)"
   ]
  }
 ],
 "metadata": {
  "kernelspec": {
   "display_name": "Python 3",
   "language": "python",
   "name": "python3"
  },
  "language_info": {
   "codemirror_mode": {
    "name": "ipython",
    "version": 3
   },
   "file_extension": ".py",
   "mimetype": "text/x-python",
   "name": "python",
   "nbconvert_exporter": "python",
   "pygments_lexer": "ipython3",
   "version": "3.13.1"
  }
 },
 "nbformat": 4,
 "nbformat_minor": 5
}
