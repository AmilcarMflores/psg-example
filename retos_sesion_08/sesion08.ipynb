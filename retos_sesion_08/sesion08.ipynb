{
 "cells": [
  {
   "cell_type": "markdown",
   "id": "3c10807c",
   "metadata": {},
   "source": [
    "# Estructuras de datos - Tuplas"
   ]
  },
  {
   "cell_type": "markdown",
   "id": "0fdde604",
   "metadata": {},
   "source": [
    "## ¿Qué es una tupla?\n",
    "\n",
    "Una tupla es una estructura de datos que representa un par ordenado (x, y).\n",
    "\n",
    "### Características\n",
    "\n",
    "- **Inmutable**: No se puede modificar después de crear\n",
    "- **Ordenada**: Los elementos mantienen su posición\n",
    "- **Indexada**: Se puede acceder a elementos por su índice\n",
    "- **Permite duplicados**: Puede contener elementos repetidos"
   ]
  },
  {
   "cell_type": "code",
   "execution_count": 1,
   "id": "0995e625",
   "metadata": {},
   "outputs": [
    {
     "name": "stdout",
     "output_type": "stream",
     "text": [
      "True\n"
     ]
    }
   ],
   "source": [
    "# Tupla simple\n",
    "coordenadas = (1, 25)\n",
    "\n",
    "# Tuplas diferentes\n",
    "tupla1 = (1, 25)\n",
    "tupla2 = (5, 2, 4)\n",
    "print(tupla1 != tupla2)  # True, son diferentes"
   ]
  },
  {
   "cell_type": "markdown",
   "id": "4b678bf1",
   "metadata": {},
   "source": [
    "## ¿Para qué se usan las tuplas?"
   ]
  },
  {
   "cell_type": "markdown",
   "id": "6b96efe1",
   "metadata": {},
   "source": [
    "### 1. Empaquetado y desempaquetado de valores"
   ]
  },
  {
   "cell_type": "code",
   "execution_count": 3,
   "id": "6078a1dc",
   "metadata": {},
   "outputs": [],
   "source": [
    "# Empaquetado\n",
    "coordenadas = (3, 5)\n",
    "\n",
    "# Desempaquetado\n",
    "x, y = coordenadas  # x=3, y=5"
   ]
  },
  {
   "cell_type": "markdown",
   "id": "d72491f1",
   "metadata": {},
   "source": [
    "### 2. Devolver múltiples valores desde una función"
   ]
  },
  {
   "cell_type": "code",
   "execution_count": 4,
   "id": "04dbc420",
   "metadata": {},
   "outputs": [],
   "source": [
    "def obtener_datos():\n",
    "    return \"Juan\", 25, \"Ingeniero\"\n",
    "\n",
    "nombre, edad, profesion = obtener_datos()"
   ]
  },
  {
   "cell_type": "markdown",
   "id": "a7c0ec41",
   "metadata": {},
   "source": [
    "### Como claves en diccionarios\n",
    "\n",
    "Se pueden usar tuplas como claves compuestas en diccionarios porque son inmutables."
   ]
  },
  {
   "cell_type": "code",
   "execution_count": 5,
   "id": "fa7939b5",
   "metadata": {},
   "outputs": [],
   "source": [
    "coordenadas_temperatura = {\n",
    "    (0, 0): 20.5,\n",
    "    (1, 1): 22.3,\n",
    "    (2, 0): 19.8\n",
    "}"
   ]
  },
  {
   "cell_type": "markdown",
   "id": "85f5dc15",
   "metadata": {},
   "source": [
    "## Declaración de tuplas"
   ]
  },
  {
   "cell_type": "markdown",
   "id": "af826de9",
   "metadata": {},
   "source": [
    "### Sintaxis básica\n",
    "\n",
    "#### Con paréntesis\n",
    "mi_tupla = (elemento1, elemento2, elemento3, ...)\n",
    "\n",
    "#### Sin paréntesis (también válido)\n",
    "mi_tupla = elemento1, elemento2, elemento3\n",
    "\n",
    "#### Tupla vacía\n",
    "tupla_vacia = ()\n",
    "\n",
    "#### Tupla con un solo elemento (nota la coma)\n",
    "tupla_unitaria = (elemento,)"
   ]
  }
 ],
 "metadata": {
  "kernelspec": {
   "display_name": "Python 3",
   "language": "python",
   "name": "python3"
  },
  "language_info": {
   "codemirror_mode": {
    "name": "ipython",
    "version": 3
   },
   "file_extension": ".py",
   "mimetype": "text/x-python",
   "name": "python",
   "nbconvert_exporter": "python",
   "pygments_lexer": "ipython3",
   "version": "3.13.1"
  }
 },
 "nbformat": 4,
 "nbformat_minor": 5
}
