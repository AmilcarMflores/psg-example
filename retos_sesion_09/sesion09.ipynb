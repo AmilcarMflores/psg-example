{
 "cells": [
  {
   "cell_type": "markdown",
   "id": "037c32be",
   "metadata": {},
   "source": [
    "# Estructuras de datos - Listas\n",
    "\n",
    "## ¿Qué es una lista?\n",
    "\n",
    "Una lista es una estructura de datos que almacena una secuencia de elementos.\n",
    "\n",
    "## Características\n",
    "\n",
    "- **Mutable:** Pueden modificarse después de su creación (añadir, eliminar o cambiar elementos).\n",
    "- **Ordenada**: Los elementos mantienen su posición\n",
    "- **Indexada**: Se puede acceder a elementos por su índice\n"
   ]
  },
  {
   "cell_type": "code",
   "execution_count": 1,
   "id": "3ae43b8c",
   "metadata": {},
   "outputs": [],
   "source": [
    "#Formas de crear listas:\n",
    "lista_vacia = []\n",
    "lista1 = [1, 2, 3]\n",
    "lista2 = list(range(5)) #Usando la función list()\n",
    "lista3 = [x**2 for x in range(5)] #Lista por comprensión"
   ]
  },
  {
   "cell_type": "markdown",
   "id": "e8229267",
   "metadata": {},
   "source": [
    "## Indexación y Slicing\n",
    "\n",
    "### Indexación\n",
    "\n",
    "- Se puede acceder a los elementos de la lista de forma positiva de izquierda a derecha\n",
    "- O también, se accede a los elementos de la lista de forma negativa de derecha a izquierda"
   ]
  },
  {
   "cell_type": "code",
   "execution_count": 2,
   "id": "83496cb1",
   "metadata": {},
   "outputs": [
    {
     "name": "stdout",
     "output_type": "stream",
     "text": [
      "Indexación positivo de una lista\n",
      "1 <class 'int'>\n",
      "hola <class 'str'>\n",
      "3.14 <class 'float'>\n",
      "(1, 2) <class 'tuple'>\n"
     ]
    }
   ],
   "source": [
    "print (\"Indexación positivo de una lista\")\n",
    "lista = [1, \"hola\", 3.14, (1,2)]\n",
    "print (lista[0], type(lista[0])) \n",
    "print (lista[1], type(lista[1])) \n",
    "print (lista[2], type(lista[2])) \n",
    "print (lista[3], type(lista[3])) "
   ]
  },
  {
   "cell_type": "code",
   "execution_count": 3,
   "id": "f5b5649a",
   "metadata": {},
   "outputs": [
    {
     "name": "stdout",
     "output_type": "stream",
     "text": [
      "Indexación negativo de una lista\n",
      "(1, 2) <class 'tuple'>\n",
      "3.14 <class 'float'>\n",
      "hola <class 'str'>\n",
      "1 <class 'int'>\n"
     ]
    }
   ],
   "source": [
    "print (\"Indexación negativo de una lista\")\n",
    "lista = [1, \"hola\", 3.14, (1,2)]\n",
    "print (lista[-1], type(lista[-1]))\n",
    "print (lista[-2], type(lista[-2]))\n",
    "print (lista[-3], type(lista[-3]))\n",
    "print (lista[-4], type(lista[-4]))"
   ]
  },
  {
   "cell_type": "markdown",
   "id": "e41d401d",
   "metadata": {},
   "source": [
    "También se puede modificar los valores de la lista original utilizando la indexación:"
   ]
  },
  {
   "cell_type": "code",
   "execution_count": 4,
   "id": "5b195d5f",
   "metadata": {},
   "outputs": [
    {
     "name": "stdout",
     "output_type": "stream",
     "text": [
      "Modificación de una lista\n",
      "[1, 'hola', 3.14, (1, 2)]\n",
      "[2, 'mundo', 3.14, (1, 2)]\n"
     ]
    }
   ],
   "source": [
    "print (\"Modificación de una lista\")\n",
    "lista = [1, \"hola\", 3.14, (1,2)]\n",
    "print (lista)\n",
    "lista[0] = 2\n",
    "lista[1] = \"mundo\"\n",
    "print (lista)\n",
    "\n",
    "# Salida\n",
    "# [1, 'hola', 3.14, (1, 2)]\n",
    "# [2, 'mundo', 3.14, (1, 2)]"
   ]
  },
  {
   "cell_type": "markdown",
   "id": "1f12099c",
   "metadata": {},
   "source": [
    "### Slicing"
   ]
  },
  {
   "cell_type": "code",
   "execution_count": 5,
   "id": "5763e80c",
   "metadata": {},
   "outputs": [
    {
     "name": "stdout",
     "output_type": "stream",
     "text": [
      "Slicing con paso positivo\n",
      "['P', 'y', 't', 'h', 'o', 'n', 'L', 'a', 'P', 'a', 'z']\n",
      "['P', 'h', 'L']\n"
     ]
    }
   ],
   "source": [
    "print (\"Slicing con paso positivo\")\n",
    "lista = [\"P\", \"y\", \"t\", \"h\", \"o\", \"n\", \"L\", \"a\", \"P\", \"a\", \"z\"]\n",
    "print (lista)\n",
    "sub_lista = lista[0:9:3]\n",
    "print (sub_lista)"
   ]
  },
  {
   "cell_type": "code",
   "execution_count": null,
   "id": "273ad0f1",
   "metadata": {},
   "outputs": [],
   "source": [
    "print (\"Slicing con paso negativo\")\n",
    "lista = [\"P\", \"y\", \"t\", \"h\", \"o\", \"n\", \"L\", \"a\", \"P\", \"a\", \"z\"]\n",
    "print (lista)\n",
    "sub_lista = lista[8:2:-4]\n",
    "print (sub_lista)"
   ]
  },
  {
   "cell_type": "code",
   "execution_count": null,
   "id": "fac3c879",
   "metadata": {},
   "outputs": [],
   "source": [
    "print (\"Slicing negativo con paso negativo\")\n",
    "lista = [\"P\", \"y\", \"t\", \"h\", \"o\", \"n\", \"L\", \"a\", \"P\", \"a\", \"z\"]\n",
    "print (lista)\n",
    "sub_lista = lista[-1:-8:-2]\n",
    "print (sub_lista)"
   ]
  },
  {
   "cell_type": "code",
   "execution_count": 6,
   "id": "c676935d",
   "metadata": {},
   "outputs": [
    {
     "name": "stdout",
     "output_type": "stream",
     "text": [
      "Slicing negativo con paso positivo\n",
      "['P', 'y', 't', 'h', 'o', 'n', 'L', 'a', 'P', 'a', 'z']\n",
      "['h', 'n', 'a', 'a']\n"
     ]
    }
   ],
   "source": [
    "print (\"Slicing negativo con paso positivo\")\n",
    "lista = [\"P\", \"y\", \"t\", \"h\", \"o\", \"n\", \"L\", \"a\", \"P\", \"a\", \"z\"]\n",
    "print (lista)\n",
    "sub_lista = lista[-8:-1:2]\n",
    "print (sub_lista)"
   ]
  },
  {
   "cell_type": "markdown",
   "id": "e48645cb",
   "metadata": {},
   "source": [
    "## Concatenación de listas"
   ]
  },
  {
   "cell_type": "code",
   "execution_count": 7,
   "id": "7e34858b",
   "metadata": {},
   "outputs": [
    {
     "name": "stdout",
     "output_type": "stream",
     "text": [
      "[1, 2, 3, 'a', 'b', 'c']\n"
     ]
    }
   ],
   "source": [
    "lista1 = [1,2,3]\n",
    "lista2 = [\"a\",\"b\",\"c\"]\n",
    "concatenar = lista1 + lista2\n",
    "print (concatenar)"
   ]
  },
  {
   "cell_type": "markdown",
   "id": "235702d3",
   "metadata": {},
   "source": [
    "## Repetición de listas"
   ]
  },
  {
   "cell_type": "code",
   "execution_count": 8,
   "id": "6e444e5e",
   "metadata": {},
   "outputs": [
    {
     "name": "stdout",
     "output_type": "stream",
     "text": [
      "[True, False, True, False, True, False]\n"
     ]
    }
   ],
   "source": [
    "lista = [True, False]\n",
    "repetir = lista * 3\n",
    "print (repetir)"
   ]
  },
  {
   "cell_type": "markdown",
   "id": "fc5f1813",
   "metadata": {},
   "source": [
    "## Métodos de las listas"
   ]
  },
  {
   "cell_type": "markdown",
   "id": "df9ddca4",
   "metadata": {},
   "source": [
    "### Métodos de búsqueda"
   ]
  },
  {
   "cell_type": "code",
   "execution_count": 9,
   "id": "e48a6131",
   "metadata": {},
   "outputs": [
    {
     "name": "stdout",
     "output_type": "stream",
     "text": [
      "Método index(valor)\n",
      "hola 3\n",
      "3.14 2\n"
     ]
    }
   ],
   "source": [
    "print (\"Método index(valor)\")\n",
    "lista = [1,True,3.14,\"hola\",5]\n",
    "valor = \"hola\"\n",
    "print (valor, lista.index(valor))\n",
    "valor = 3.14\n",
    "print (valor, lista.index(valor))\n"
   ]
  },
  {
   "cell_type": "code",
   "execution_count": 10,
   "id": "7374e0e4",
   "metadata": {},
   "outputs": [
    {
     "name": "stdout",
     "output_type": "stream",
     "text": [
      "Método count(valor)\n",
      "True 4\n",
      "3.14 2\n"
     ]
    }
   ],
   "source": [
    "print (\"Método count(valor)\")\n",
    "lista = [1,True,3.14,\"hola\",5, True, True, 3.140]\n",
    "valor = True\n",
    "print (valor, lista.count(valor))\n",
    "valor = 3.14\n",
    "print (valor, lista.count(valor))\n"
   ]
  },
  {
   "cell_type": "markdown",
   "id": "e1399736",
   "metadata": {},
   "source": [
    "### Métodos de adición"
   ]
  },
  {
   "cell_type": "code",
   "execution_count": 11,
   "id": "8c61ff98",
   "metadata": {},
   "outputs": [
    {
     "name": "stdout",
     "output_type": "stream",
     "text": [
      "Método insert(i, valor)\n",
      "[1, 2, 3, 4, 5]\n",
      "[1, 2, 'OwO', 3, 4, 5]\n"
     ]
    }
   ],
   "source": [
    "print (\"Método insert(i, valor)\")\n",
    "lista = [1,2,3,4,5]\n",
    "print (lista)\n",
    "lista.insert(2, \"OwO\")\n",
    "print (lista)"
   ]
  },
  {
   "cell_type": "code",
   "execution_count": 13,
   "id": "6b6a78b0",
   "metadata": {},
   "outputs": [
    {
     "name": "stdout",
     "output_type": "stream",
     "text": [
      "Método append(valor)\n",
      "[1, 2, 3, 4, 5]\n",
      "[1, 2, 3, 4, 5, '(OwO=)']\n"
     ]
    }
   ],
   "source": [
    "print (\"Método append(valor)\")\n",
    "lista = [1,2,3,4,5]\n",
    "print (lista)\n",
    "lista.append(\"(OwO=)\")\n",
    "print (lista)"
   ]
  },
  {
   "cell_type": "code",
   "execution_count": 14,
   "id": "5fffd7f1",
   "metadata": {},
   "outputs": [
    {
     "name": "stdout",
     "output_type": "stream",
     "text": [
      "Método extend(iterable)\n",
      "[1, 2, 3]\n",
      "[1, 2, 3, ':', '3']\n",
      "[1, 2, 3, ':', '3', '(¬_¬ )', '(O_O=)']\n",
      "[1, 2, 3, ':', '3', '(¬_¬ )', '(O_O=)', '😅', '😎']\n"
     ]
    }
   ],
   "source": [
    "print (\"Método extend(iterable)\")\n",
    "lista = [1,2,3]\n",
    "print (lista)\n",
    "lista.extend(\":3\")\n",
    "print (lista)\n",
    "lista.extend([\"(¬_¬ )\", \"(O_O=)\"])\n",
    "print (lista)\n",
    "lista.extend((\"😅\", \"😎\"))\n",
    "print (lista)"
   ]
  },
  {
   "cell_type": "markdown",
   "id": "32903a5d",
   "metadata": {},
   "source": [
    "### Métodos de eliminación"
   ]
  },
  {
   "cell_type": "code",
   "execution_count": 15,
   "id": "e534fa70",
   "metadata": {},
   "outputs": [
    {
     "name": "stdout",
     "output_type": "stream",
     "text": [
      "Método remove(valor)\n",
      "[1, 2, 'UwU', 4, 5, 'UwU']\n",
      "[1, 2, 4, 5, 'UwU']\n"
     ]
    }
   ],
   "source": [
    "print (\"Método remove(valor)\")\n",
    "lista = [1,2,\"UwU\",4,5, \"UwU\"]\n",
    "print (lista)\n",
    "lista.remove(\"UwU\")\n",
    "print (lista)"
   ]
  },
  {
   "cell_type": "code",
   "execution_count": 16,
   "id": "b327db80",
   "metadata": {},
   "outputs": [
    {
     "name": "stdout",
     "output_type": "stream",
     "text": [
      "Método pop(i)\n",
      "['OwO', 3, 'UwU', 5]\n",
      "['OwO', 'UwU', 5]\n",
      "Método pop()\n",
      "['OwO', 'UwU']\n"
     ]
    }
   ],
   "source": [
    "print (\"Método pop(i)\")\n",
    "lista = [\"OwO\",3,\"UwU\",5]\n",
    "print (lista)\n",
    "lista.pop(1)\n",
    "print (lista)\n",
    "print (\"Método pop()\")\n",
    "lista.pop()\n",
    "print (lista)"
   ]
  },
  {
   "cell_type": "code",
   "execution_count": 17,
   "id": "7d5738ac",
   "metadata": {},
   "outputs": [
    {
     "name": "stdout",
     "output_type": "stream",
     "text": [
      "Método clear()\n",
      "['ewe', 'OwO', 'UwU']\n",
      "[]\n"
     ]
    }
   ],
   "source": [
    "print (\"Método clear()\")\n",
    "lista = [\"ewe\",\"OwO\",\"UwU\"]\n",
    "print (lista)\n",
    "lista.clear()\n",
    "print (lista)"
   ]
  },
  {
   "cell_type": "markdown",
   "id": "c817ae8a",
   "metadata": {},
   "source": [
    "### Métodos de ordenamiento"
   ]
  },
  {
   "cell_type": "code",
   "execution_count": 18,
   "id": "c54c43ca",
   "metadata": {},
   "outputs": [
    {
     "name": "stdout",
     "output_type": "stream",
     "text": [
      "Método sort()\n",
      "[3, 1, 5, 2, 4]\n",
      "[1, 2, 3, 4, 5]\n"
     ]
    }
   ],
   "source": [
    "print (\"Método sort()\")\n",
    "lista = [3,1,5,2,4]\n",
    "print (lista)\n",
    "lista.sort()\n",
    "print (lista)"
   ]
  },
  {
   "cell_type": "code",
   "execution_count": null,
   "id": "7fc8c522",
   "metadata": {},
   "outputs": [],
   "source": [
    "print (\"Método sort()\")\n",
    "lista = [3,1,5,2,4]\n",
    "print (lista)\n",
    "lista.sort(reverse=True)\n",
    "print (lista)"
   ]
  },
  {
   "cell_type": "code",
   "execution_count": null,
   "id": "b83ebfb9",
   "metadata": {},
   "outputs": [],
   "source": [
    "print (\"Método reverse()\")\n",
    "lista = [3,1,5,2,4]\n",
    "print (lista)\n",
    "lista.reverse()\n",
    "print (lista)"
   ]
  },
  {
   "cell_type": "markdown",
   "id": "33a787aa",
   "metadata": {},
   "source": [
    "### Métodos de copia\n",
    "\n",
    "Cuando se asigna una lista a otra variable se crea una referencia a la lista original, **no se crea una copia de la lista, si se modifica esta se modifica la original.**\n",
    "\n",
    "**Para crear una copia de la lista se debe utilizar el método copy() o el slicing [:]**"
   ]
  },
  {
   "cell_type": "code",
   "execution_count": 21,
   "id": "0d24eef9",
   "metadata": {},
   "outputs": [
    {
     "name": "stdout",
     "output_type": "stream",
     "text": [
      "Método copia con slicing\n",
      "[1, 2, 3, 4, 5]\n",
      "[6, 2, 3, 4, 5]\n"
     ]
    }
   ],
   "source": [
    "print (\"Método copia con slicing\")\n",
    "lista = [1,2,3,4,5]\n",
    "print (lista)\n",
    "copia = lista[:]\n",
    "copia[0] = 6\n",
    "print (copia)"
   ]
  },
  {
   "cell_type": "code",
   "execution_count": 22,
   "id": "66d0306a",
   "metadata": {},
   "outputs": [
    {
     "name": "stdout",
     "output_type": "stream",
     "text": [
      "Método copy()\n",
      "[3, 1, 5, 2, 4]\n",
      "[3, 1, 5, 2, 4]\n",
      "True\n"
     ]
    }
   ],
   "source": [
    "print (\"Método copy()\")\n",
    "lista = [3,1,5,2,4]\n",
    "print (lista)\n",
    "copia = lista.copy()\n",
    "print (copia)\n",
    "print (copia == lista)"
   ]
  },
  {
   "cell_type": "markdown",
   "id": "ca78b9ba",
   "metadata": {},
   "source": [
    "## Funciones con listas\n",
    "\n",
    "- **len()** devuelve la longitud de la lista o el número de elementos que contiene.\n",
    "- **max()** devuelve el valor máximo de la lista o el elemento más grande.\n",
    "- **min()** devuelve el valor mínimo de la lista o el elemento más pequeño.\n",
    "- **sum()** devuelve la suma de los elementos de la lista."
   ]
  },
  {
   "cell_type": "markdown",
   "id": "fedf5155",
   "metadata": {},
   "source": [
    "## Comparación de listas"
   ]
  },
  {
   "cell_type": "code",
   "execution_count": null,
   "id": "ad795ffc",
   "metadata": {},
   "outputs": [],
   "source": [
    "print (\"Comparación de listas\")\n",
    "lista = [1,2,3,4,5]\n",
    "print (lista)\n",
    "print (3 in lista)\n",
    "print (6 in lista)\n",
    "print (3 not in lista)\n",
    "print (6 not in lista)\n",
    "print ([1,2,3] in lista)\n",
    "\n",
    "print (\"Comparación de listas\")\n",
    "lista1 = [1,2,3,4,5]\n",
    "lista2 = [1,2,3,4,5]\n",
    "lista3 = [1,2]\n",
    "print (lista1, lista2, lista3)\n",
    "print (lista1 is lista2)\n",
    "print (lista1 is not lista2)\n",
    "print (lista3 is lista1)"
   ]
  },
  {
   "cell_type": "markdown",
   "id": "49a1bff5",
   "metadata": {},
   "source": [
    "## Operadores de comparación"
   ]
  },
  {
   "cell_type": "code",
   "execution_count": null,
   "id": "d47d0db4",
   "metadata": {},
   "outputs": [],
   "source": [
    "print (\"Menor y Menor Igual que\")\n",
    "print ([1,2,3] <= [1,2,4])\n",
    "print ([1,2,3] <= [1,2,2,2])\n",
    "print ([1,2,3] <= [2])\n",
    "print ([1,2,3] < [1,2,3])\n",
    "print ([1,2,3] <= [1,2,3])\n",
    "\n",
    "print (\"Mayor y Mayor Igual que\")\n",
    "print ([1,2,3] >= [1,2,4])\n",
    "print ([1,2,3] >= [1,2,2,2])\n",
    "print ([1,2,3] >= [2])\n",
    "print ([1,2,3] > [1,2,3])\n",
    "print ([1,2,3] >= [1,2,3])\n",
    "\n",
    "print (\"Igual y Desigual que\")\n",
    "print ([1,2,3] == [1,2,3])\n",
    "print ([1,2,3] == [1,2,4])\n",
    "print ([1,2,3] != [1,2,3])\n",
    "print ([1,2,3] != [1,2,4])"
   ]
  },
  {
   "cell_type": "markdown",
   "id": "25ef3b50",
   "metadata": {},
   "source": [
    "## Listas anidadas"
   ]
  },
  {
   "cell_type": "code",
   "execution_count": null,
   "id": "7b1f9c7b",
   "metadata": {},
   "outputs": [],
   "source": [
    "print (\"Listas anidadas\")\n",
    "lista = [1,2,3,[4,5,6]]\n",
    "print (lista)\n",
    "print (type(lista))\n",
    "valor_lista = lista[3]\n",
    "print (valor_lista)\n",
    "print (type(valor_lista))\n",
    "valor = valor_lista[1]\n",
    "print (valor)\n",
    "print (type(valor))"
   ]
  }
 ],
 "metadata": {
  "kernelspec": {
   "display_name": "Python 3",
   "language": "python",
   "name": "python3"
  },
  "language_info": {
   "codemirror_mode": {
    "name": "ipython",
    "version": 3
   },
   "file_extension": ".py",
   "mimetype": "text/x-python",
   "name": "python",
   "nbconvert_exporter": "python",
   "pygments_lexer": "ipython3",
   "version": "3.13.1"
  }
 },
 "nbformat": 4,
 "nbformat_minor": 5
}
