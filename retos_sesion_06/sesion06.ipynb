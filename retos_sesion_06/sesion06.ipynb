{
 "cells": [
  {
   "cell_type": "markdown",
   "id": "e9731216",
   "metadata": {},
   "source": [
    "# Tipos de datos - Datos booleanos"
   ]
  },
  {
   "cell_type": "markdown",
   "id": "40d610da",
   "metadata": {},
   "source": [
    "`True`\n",
    "\n",
    "`False`"
   ]
  },
  {
   "cell_type": "code",
   "execution_count": 1,
   "id": "f5503c56",
   "metadata": {},
   "outputs": [
    {
     "name": "stdout",
     "output_type": "stream",
     "text": [
      "Tipos de datos booleanos\n",
      "True\n",
      "False\n",
      "2\n",
      "1\n",
      "0\n",
      "0\n",
      "0\n"
     ]
    }
   ],
   "source": [
    "print(\"Tipos de datos booleanos\")\n",
    "print (True)\n",
    "print (False)\n",
    "# Operaciones aritméticas con booleanos\n",
    "print (True + True)\n",
    "print (True * True)\n",
    "print (True * False)\n",
    "print (False + False)\n",
    "print (False * False)"
   ]
  },
  {
   "cell_type": "code",
   "execution_count": 2,
   "id": "f38933ab",
   "metadata": {},
   "outputs": [
    {
     "name": "stdout",
     "output_type": "stream",
     "text": [
      "Números y booleanos\n",
      "11\n",
      "10\n",
      "10\n",
      "0\n"
     ]
    }
   ],
   "source": [
    "print (\"Números y booleanos\")\n",
    "print (10 + True)\n",
    "print (10 + False)\n",
    "print (10 * True)\n",
    "print (10 * False)"
   ]
  },
  {
   "cell_type": "code",
   "execution_count": 3,
   "id": "fcf5f6ce",
   "metadata": {},
   "outputs": [
    {
     "name": "stdout",
     "output_type": "stream",
     "text": [
      "Declarar variables booleanas\n",
      "True\n",
      "<class 'bool'>\n",
      "False\n",
      "<class 'bool'>\n"
     ]
    }
   ],
   "source": [
    "print (\"Declarar variables booleanas\")\n",
    "var_booleana = True\n",
    "print (var_booleana)\n",
    "print (type(var_booleana))\n",
    "var_booleana = False\n",
    "print (var_booleana)\n",
    "print (type(var_booleana))"
   ]
  },
  {
   "cell_type": "code",
   "execution_count": 4,
   "id": "1b78c14c",
   "metadata": {},
   "outputs": [
    {
     "name": "stdout",
     "output_type": "stream",
     "text": [
      "Declarar mediante función bool()\n",
      "True\n",
      "<class 'bool'>\n",
      "False\n",
      "<class 'bool'>\n",
      "True\n",
      "<class 'bool'>\n"
     ]
    }
   ],
   "source": [
    "print (\"Declarar mediante función bool()\")\n",
    "var_booleana = bool(1)\n",
    "print (var_booleana)\n",
    "print (type(var_booleana))\n",
    "var_booleana = bool(0)\n",
    "print (var_booleana)\n",
    "print (type(var_booleana))\n",
    "var_booleana = bool(15)\n",
    "print (var_booleana)\n",
    "print (type(var_booleana))"
   ]
  },
  {
   "cell_type": "code",
   "execution_count": 7,
   "id": "d96c9553",
   "metadata": {},
   "outputs": [
    {
     "name": "stdout",
     "output_type": "stream",
     "text": [
      "Operadores de comparación\n",
      "True\n",
      "False\n",
      "False\n",
      "False\n",
      "True\n",
      "True\n"
     ]
    }
   ],
   "source": [
    "print (\"Operadores de comparación\")\n",
    "print (10 == 10)\n",
    "print (10 != 10)\n",
    "print (10 < 10)\n",
    "print (10 > 10)\n",
    "print (10 <= 10)\n",
    "print (10 >= 10)\n",
    "#print (10 is 10)\n",
    "#print (10 is not 10)"
   ]
  },
  {
   "cell_type": "code",
   "execution_count": 8,
   "id": "d86e0aef",
   "metadata": {},
   "outputs": [
    {
     "name": "stdout",
     "output_type": "stream",
     "text": [
      "Asignación de variables\n",
      "True\n",
      "False\n"
     ]
    }
   ],
   "source": [
    "print (\"Asignación de variables\")\n",
    "x = 10\n",
    "mayor_que_cero = x > 0\n",
    "print (mayor_que_cero)\n",
    "diferente_de_10 = x != 10\n",
    "print (diferente_de_10)"
   ]
  },
  {
   "cell_type": "code",
   "execution_count": 9,
   "id": "c41f65bd",
   "metadata": {},
   "outputs": [
    {
     "name": "stdout",
     "output_type": "stream",
     "text": [
      "Operadores lógicos\n",
      "True\n",
      "False\n",
      "True\n",
      "False\n",
      "False\n",
      "True\n"
     ]
    }
   ],
   "source": [
    "print (\"Operadores lógicos\")\n",
    "print (True and True)\n",
    "print (True and False)\n",
    "print (False or True)\n",
    "print (False or False)\n",
    "print (not True)\n",
    "print (not False)"
   ]
  },
  {
   "cell_type": "code",
   "execution_count": 10,
   "id": "f19bc6b2",
   "metadata": {},
   "outputs": [
    {
     "name": "stdout",
     "output_type": "stream",
     "text": [
      "Operadores lógicos y prioridad\n",
      "True\n",
      "False\n",
      "True\n",
      "True\n",
      "False\n",
      "False\n"
     ]
    }
   ],
   "source": [
    "print(\"Operadores lógicos y prioridad\")\n",
    "print(False and False or True)\n",
    "print(False and (False or True))\n",
    "print(not True and False or True)\n",
    "print(not (True and False or False))\n",
    "print(not True and (False or False))\n",
    "print(not True and False or False)"
   ]
  },
  {
   "cell_type": "markdown",
   "id": "2581a703",
   "metadata": {},
   "source": [
    "### AND\n",
    "- Significa \"Y\".\n",
    "- Es un operador binario, lo que significa que necesita dos expresiones.\n",
    "- Su función es verificar si ambas expresiones son verdaderas.\n",
    "- El resultado es True solo si las dos expresiones son True.\n",
    "- Si alguna de las expresiones es False, el resultado es False."
   ]
  },
  {
   "cell_type": "code",
   "execution_count": 11,
   "id": "cdc8664a",
   "metadata": {},
   "outputs": [
    {
     "name": "stdout",
     "output_type": "stream",
     "text": [
      "Operador AND\n",
      "True\n",
      "False\n",
      "False\n",
      "False\n"
     ]
    }
   ],
   "source": [
    "print (\"Operador AND\")\n",
    "print (True and True)\n",
    "print (True and False)\n",
    "print (False and True)\n",
    "print (False and False)"
   ]
  },
  {
   "cell_type": "markdown",
   "id": "7e8006ce",
   "metadata": {},
   "source": [
    "### OR\n",
    "\n",
    "- Significa \"O\".\n",
    "- Es un operador binario, lo que significa que necesita dos expresiones.\n",
    "- Su función es verificar si al menos una de las expresiones es verdadera.\n",
    "- El resultado es True si al menos una de las expresiones es True.\n",
    "- Si ambas expresiones son False, el resultado es False."
   ]
  },
  {
   "cell_type": "code",
   "execution_count": 12,
   "id": "c5a75588",
   "metadata": {},
   "outputs": [
    {
     "name": "stdout",
     "output_type": "stream",
     "text": [
      "Operador OR\n",
      "True\n",
      "True\n",
      "True\n",
      "False\n"
     ]
    }
   ],
   "source": [
    "print (\"Operador OR\")\n",
    "print (True or True)\n",
    "print (True or False)\n",
    "print (False or True)\n",
    "print (False or False)"
   ]
  },
  {
   "cell_type": "markdown",
   "id": "9e81cb8c",
   "metadata": {},
   "source": [
    "### NOT\n",
    "\n",
    "- Significa \"NO\".\n",
    "- Es un operador unario, lo que significa que solo necesita una expresión.\n",
    "- Su función es invertir el valor lógico de la expresión.\n",
    "- Si la expresión es True, not la convierte en False.\n",
    "- Si la expresión es False, not la convierte en True."
   ]
  },
  {
   "cell_type": "code",
   "execution_count": 13,
   "id": "86af7810",
   "metadata": {},
   "outputs": [
    {
     "name": "stdout",
     "output_type": "stream",
     "text": [
      "Operador NOT\n",
      "False\n",
      "True\n"
     ]
    }
   ],
   "source": [
    "print (\"Operador NOT\")\n",
    "print (not True)\n",
    "print (not False)"
   ]
  },
  {
   "cell_type": "markdown",
   "id": "de10ace3",
   "metadata": {},
   "source": [
    "### NAND\n",
    "\n",
    "Negación de la función AND"
   ]
  },
  {
   "cell_type": "code",
   "execution_count": 14,
   "id": "f72cb684",
   "metadata": {},
   "outputs": [
    {
     "name": "stdout",
     "output_type": "stream",
     "text": [
      "Operador NAND\n",
      "False\n",
      "True\n",
      "True\n",
      "True\n"
     ]
    }
   ],
   "source": [
    "print (\"Operador NAND\")\n",
    "print (not (True and True))\n",
    "print (not (True and False))\n",
    "print (not (False and True))\n",
    "print (not (False and False))"
   ]
  },
  {
   "cell_type": "markdown",
   "id": "18196cbd",
   "metadata": {},
   "source": [
    "### NOR \n",
    "\n",
    "Negación de la función OR"
   ]
  },
  {
   "cell_type": "code",
   "execution_count": 15,
   "id": "56c0f239",
   "metadata": {},
   "outputs": [
    {
     "name": "stdout",
     "output_type": "stream",
     "text": [
      "Operador NOR\n",
      "False\n",
      "False\n",
      "False\n",
      "True\n"
     ]
    }
   ],
   "source": [
    "print (\"Operador NOR\")\n",
    "print (not (True or True))\n",
    "print (not (True or False))\n",
    "print (not (False or True))\n",
    "print (not (False or False))"
   ]
  },
  {
   "cell_type": "markdown",
   "id": "a05da490",
   "metadata": {},
   "source": [
    "### XOR\n",
    "\n",
    "Función O exclusiva, True cuando los dos términos son diferentes y False cuando son Iguales \"O el uno O el otro\""
   ]
  },
  {
   "cell_type": "code",
   "execution_count": 16,
   "id": "f0e87917",
   "metadata": {},
   "outputs": [
    {
     "name": "stdout",
     "output_type": "stream",
     "text": [
      "Operador XOR\n",
      "True\n",
      "False\n"
     ]
    }
   ],
   "source": [
    "print (\"Operador XOR\")\n",
    "a = True\n",
    "b = False\n",
    "print ((a or b) and not (a and b))\n",
    "a = True\n",
    "b = True\n",
    "print ((a or b) and not (a and b))"
   ]
  },
  {
   "cell_type": "markdown",
   "id": "cf00304f",
   "metadata": {},
   "source": [
    "Si un sensor detecta movimiento y tiene batería entonces enciende la luz:"
   ]
  },
  {
   "cell_type": "code",
   "execution_count": 17,
   "id": "45cd4176",
   "metadata": {},
   "outputs": [
    {
     "name": "stdout",
     "output_type": "stream",
     "text": [
      "Ejemplo de uso Sensor y Batería\n",
      "True and True = True\n",
      "True and False = False\n",
      "False and True = False\n",
      "False and False = False\n"
     ]
    }
   ],
   "source": [
    "print (\"Ejemplo de uso Sensor y Batería\")\n",
    "sensor = True\n",
    "bateria = True\n",
    "print (sensor, \"and\", bateria, \"=\", sensor and bateria)\n",
    "sensor = True\n",
    "bateria = False\n",
    "print (sensor, \"and\", bateria, \"=\", sensor and bateria)\n",
    "sensor = False\n",
    "bateria = True\n",
    "print (sensor, \"and\", bateria, \"=\", sensor and bateria)\n",
    "sensor = False\n",
    "bateria = False\n",
    "print (sensor, \"and\", bateria, \"=\", sensor and bateria)"
   ]
  },
  {
   "cell_type": "markdown",
   "id": "9720bb3a",
   "metadata": {},
   "source": [
    "#### Ejemplo 1 - Determinar si el número 20 está en el rango 0 a 100"
   ]
  },
  {
   "cell_type": "code",
   "execution_count": 10,
   "id": "d0584ee1",
   "metadata": {},
   "outputs": [
    {
     "name": "stdout",
     "output_type": "stream",
     "text": [
      "True\n"
     ]
    }
   ],
   "source": [
    "numero = 20\n",
    "\n",
    "rango_inferior = numero >= 0\n",
    "rango_superior = numero <= 100\n",
    "\n",
    "resultado = rango_inferior and rango_superior\n",
    "print(resultado)\n",
    "\n",
    "# Si es True está en este rango\n",
    "# Si es False no está en este rango"
   ]
  },
  {
   "cell_type": "markdown",
   "id": "aa9b190e",
   "metadata": {},
   "source": [
    "#### Ejemplo 2 - Un estudiante obtuvo las siguientes notas en sus exámenes: 15, 20, 16 determinar si el estudiante aprobó con una nota superior a 50"
   ]
  },
  {
   "cell_type": "code",
   "execution_count": 11,
   "id": "37459ab9",
   "metadata": {},
   "outputs": [
    {
     "name": "stdout",
     "output_type": "stream",
     "text": [
      "True\n"
     ]
    }
   ],
   "source": [
    "primer_puntaje = 15\n",
    "segundo_puntaje = 20\n",
    "tercer_puntaje = 16\n",
    "\n",
    "suma_total_puntaje = primer_puntaje + segundo_puntaje + tercer_puntaje\n",
    "\n",
    "print(suma_total_puntaje > 50) # Aprobo si es True"
   ]
  },
  {
   "cell_type": "markdown",
   "id": "b704fbbb",
   "metadata": {},
   "source": [
    "#### Ejemplo 3 - Determinar si el número 15 es divisible por 3 y 5, pero no por 2"
   ]
  },
  {
   "cell_type": "code",
   "execution_count": 12,
   "id": "db7be2fe",
   "metadata": {},
   "outputs": [
    {
     "name": "stdout",
     "output_type": "stream",
     "text": [
      "El número 15 ¿es divisible por 3 y 5 pero no por 2?: True\n"
     ]
    }
   ],
   "source": [
    "numero = 15\n",
    "es_divisible = ((numero % 3 == 0) and (numero % 5 == 0)) and not (numero % 2 == 0)\n",
    "print(\"El número\", numero, \"¿es divisible por 3 y 5 pero no por 2?:\", es_divisible) \n"
   ]
  },
  {
   "cell_type": "markdown",
   "id": "1af5aad3",
   "metadata": {},
   "source": [
    "### Cortocircuitos"
   ]
  },
  {
   "cell_type": "code",
   "execution_count": 19,
   "id": "cc30ed63",
   "metadata": {},
   "outputs": [
    {
     "name": "stdout",
     "output_type": "stream",
     "text": [
      "Cortocircuito con operador and\n",
      "False\n"
     ]
    }
   ],
   "source": [
    "print (\"Cortocircuito con operador and\")\n",
    "x = 1\n",
    "y = 0\n",
    "print (x > 2 and (x/y) > 2)\n",
    "#print (x > 0 and (x/y) > 0)"
   ]
  },
  {
   "cell_type": "code",
   "execution_count": 21,
   "id": "304e0c0d",
   "metadata": {},
   "outputs": [
    {
     "name": "stdout",
     "output_type": "stream",
     "text": [
      "Cortocircuito con operador or\n",
      "True\n"
     ]
    }
   ],
   "source": [
    "print (\"Cortocircuito con operador or\")\n",
    "x = 1\n",
    "y = 0\n",
    "print (x > 0 or (x/y) > 0)\n",
    "#print (x > 2 or (x/y) > 2)"
   ]
  }
 ],
 "metadata": {
  "kernelspec": {
   "display_name": "Python 3",
   "language": "python",
   "name": "python3"
  },
  "language_info": {
   "codemirror_mode": {
    "name": "ipython",
    "version": 3
   },
   "file_extension": ".py",
   "mimetype": "text/x-python",
   "name": "python",
   "nbconvert_exporter": "python",
   "pygments_lexer": "ipython3",
   "version": "3.13.1"
  }
 },
 "nbformat": 4,
 "nbformat_minor": 5
}
