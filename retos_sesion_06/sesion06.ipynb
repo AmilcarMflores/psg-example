{
 "cells": [
  {
   "cell_type": "markdown",
   "id": "e9731216",
   "metadata": {},
   "source": [
    "# Tipos de datos booleanos"
   ]
  },
  {
   "cell_type": "markdown",
   "id": "40d610da",
   "metadata": {},
   "source": [
    "#### True\n",
    "#### False"
   ]
  },
  {
   "cell_type": "markdown",
   "id": "7ff6c510",
   "metadata": {},
   "source": [
    "## Operaciones aritméticas con booleanos"
   ]
  },
  {
   "cell_type": "code",
   "execution_count": 2,
   "id": "f5503c56",
   "metadata": {},
   "outputs": [
    {
     "name": "stdout",
     "output_type": "stream",
     "text": [
      "2\n",
      "1\n",
      "0\n",
      "0\n",
      "0\n"
     ]
    }
   ],
   "source": [
    "print (True + True)\n",
    "print (True * True)\n",
    "print (True * False)\n",
    "print (False + False)\n",
    "print (False * False)"
   ]
  },
  {
   "cell_type": "markdown",
   "id": "de87a6b3",
   "metadata": {},
   "source": [
    "## Números y booleanos"
   ]
  },
  {
   "cell_type": "code",
   "execution_count": 3,
   "id": "df798138",
   "metadata": {},
   "outputs": [
    {
     "name": "stdout",
     "output_type": "stream",
     "text": [
      "11\n",
      "10\n",
      "10\n",
      "0\n"
     ]
    }
   ],
   "source": [
    "print (10 + True)\n",
    "print (10 + False)\n",
    "print (10 * True)\n",
    "print (10 * False)"
   ]
  },
  {
   "cell_type": "markdown",
   "id": "b64f3836",
   "metadata": {},
   "source": [
    "## Declarar variables booleanas"
   ]
  },
  {
   "cell_type": "code",
   "execution_count": 4,
   "id": "fcf5f6ce",
   "metadata": {},
   "outputs": [
    {
     "name": "stdout",
     "output_type": "stream",
     "text": [
      "<class 'bool'>\n",
      "<class 'bool'>\n"
     ]
    }
   ],
   "source": [
    "var_booleana = True\n",
    "print(type(var_booleana)) #<class 'bool'>\n",
    "var_booleana = False\n",
    "print(type(var_booleana)) #<class 'bool'>\n"
   ]
  },
  {
   "cell_type": "markdown",
   "id": "acdd7794",
   "metadata": {},
   "source": [
    "## Otra forma de declarar"
   ]
  },
  {
   "cell_type": "code",
   "execution_count": 5,
   "id": "d8f1eb6e",
   "metadata": {},
   "outputs": [
    {
     "name": "stdout",
     "output_type": "stream",
     "text": [
      "True\n",
      "<class 'bool'>\n",
      "False\n",
      "True\n"
     ]
    }
   ],
   "source": [
    "var_booleana = bool(1)\n",
    "print(var_booleana) #True\n",
    "print(type(var_booleana)) #<class 'bool'>\n",
    "var_booleana = bool(0)\n",
    "print(var_booleana) #False\n",
    "var_booleana = bool(-15) # Solo el 0 pueder ser falso, lo demás te dará True\n",
    "print(var_booleana) #True"
   ]
  },
  {
   "cell_type": "markdown",
   "id": "37f849fc",
   "metadata": {},
   "source": [
    "## Operadores de comparación (<, >, <=, >=)"
   ]
  },
  {
   "cell_type": "markdown",
   "id": "1c09a698",
   "metadata": {},
   "source": [
    "## Operadores de igualdad e identidad (==, !=, is, is not)"
   ]
  },
  {
   "cell_type": "code",
   "execution_count": 7,
   "id": "66b5efc6",
   "metadata": {},
   "outputs": [
    {
     "name": "stdout",
     "output_type": "stream",
     "text": [
      "True\n",
      "False\n",
      "False\n",
      "False\n",
      "True\n",
      "True\n"
     ]
    }
   ],
   "source": [
    "print (10 == 10)\n",
    "print (10 != 10)\n",
    "print (10 < 10)\n",
    "print (10 > 10)\n",
    "print (10 <= 10)\n",
    "print (10 >= 10)\n",
    "#print (10 is 10)\n",
    "#print (10 is not 10)"
   ]
  },
  {
   "cell_type": "markdown",
   "id": "e2a86fb0",
   "metadata": {},
   "source": [
    "## Asignación de variables"
   ]
  },
  {
   "cell_type": "code",
   "execution_count": 8,
   "id": "5887ce66",
   "metadata": {},
   "outputs": [
    {
     "name": "stdout",
     "output_type": "stream",
     "text": [
      "True\n",
      "False\n"
     ]
    }
   ],
   "source": [
    "x = 10\n",
    "mayor_que_cero = x > 0\n",
    "print(mayor_que_cero)\n",
    "diferente_de_10 = x != 10\n",
    "print(diferente_de_10)"
   ]
  },
  {
   "cell_type": "markdown",
   "id": "e566f1b4",
   "metadata": {},
   "source": [
    "## Operadores lógicos (not, and, or)"
   ]
  },
  {
   "cell_type": "code",
   "execution_count": 9,
   "id": "084bcea6",
   "metadata": {},
   "outputs": [
    {
     "name": "stdout",
     "output_type": "stream",
     "text": [
      "gato\n",
      "gato\n"
     ]
    }
   ],
   "source": [
    "# Tienen un orden en la ejecución: primero se ejecuta el not, and y or)\n",
    "print(\"gato\" or \"gato\")\n",
    "print(\"gato\" or \"perro\")"
   ]
  },
  {
   "cell_type": "markdown",
   "id": "9720bb3a",
   "metadata": {},
   "source": [
    "### Ejercicio 1 - Determinar si el número 20 está en el rango 0 a 100"
   ]
  },
  {
   "cell_type": "code",
   "execution_count": 10,
   "id": "d0584ee1",
   "metadata": {},
   "outputs": [
    {
     "name": "stdout",
     "output_type": "stream",
     "text": [
      "True\n"
     ]
    }
   ],
   "source": [
    "numero = 20\n",
    "\n",
    "rango_inferior = numero >= 0\n",
    "rango_superior = numero <= 100\n",
    "\n",
    "resultado = rango_inferior and rango_superior\n",
    "print(resultado)\n",
    "\n",
    "# Si es True está en este rango\n",
    "# Si es False no está en este rango"
   ]
  },
  {
   "cell_type": "markdown",
   "id": "e9d97220",
   "metadata": {},
   "source": [
    "### Ejercicio 2"
   ]
  },
  {
   "cell_type": "code",
   "execution_count": 11,
   "id": "37459ab9",
   "metadata": {},
   "outputs": [
    {
     "name": "stdout",
     "output_type": "stream",
     "text": [
      "True\n"
     ]
    }
   ],
   "source": [
    "primer_puntaje = 15\n",
    "segundo_puntaje = 20\n",
    "tercer_puntaje = 16\n",
    "\n",
    "suma_total_puntaje = primer_puntaje + segundo_puntaje + tercer_puntaje\n",
    "\n",
    "print(suma_total_puntaje > 50) # Aprobo si es True"
   ]
  },
  {
   "cell_type": "markdown",
   "id": "b704fbbb",
   "metadata": {},
   "source": [
    "### Ejercicio 3"
   ]
  },
  {
   "cell_type": "code",
   "execution_count": 12,
   "id": "db7be2fe",
   "metadata": {},
   "outputs": [
    {
     "name": "stdout",
     "output_type": "stream",
     "text": [
      "El número 15 ¿es divisible por 3 y 5 pero no por 2?: True\n"
     ]
    }
   ],
   "source": [
    "numero = 15\n",
    "es_divisible = ((numero % 3 == 0) and (numero % 5 == 0)) and not (numero % 2 == 0)\n",
    "print(\"El número\", numero, \"¿es divisible por 3 y 5 pero no por 2?:\", es_divisible) \n"
   ]
  },
  {
   "cell_type": "markdown",
   "id": "1af5aad3",
   "metadata": {},
   "source": [
    "## Cortocircuito con operador AND"
   ]
  },
  {
   "cell_type": "code",
   "execution_count": 13,
   "id": "cc30ed63",
   "metadata": {},
   "outputs": [],
   "source": [
    "x = 3 + 5\n",
    "y = 0\n",
    "\n",
    "#print(x < 2 and ( x / y) > 2)\n",
    "#print(x > 0 and (x / y) > 0)"
   ]
  },
  {
   "cell_type": "markdown",
   "id": "99a73d3d",
   "metadata": {},
   "source": [
    "## Cortocircuito con operador OR"
   ]
  },
  {
   "cell_type": "code",
   "execution_count": 14,
   "id": "304e0c0d",
   "metadata": {},
   "outputs": [],
   "source": [
    "x = 1\n",
    "y = 0\n",
    "\n",
    "#print(x > 0 or (x / y) > 0)\n",
    "#print(x > 2 or (x / y) > 2)"
   ]
  }
 ],
 "metadata": {
  "kernelspec": {
   "display_name": "Python 3",
   "language": "python",
   "name": "python3"
  },
  "language_info": {
   "codemirror_mode": {
    "name": "ipython",
    "version": 3
   },
   "file_extension": ".py",
   "mimetype": "text/x-python",
   "name": "python",
   "nbconvert_exporter": "python",
   "pygments_lexer": "ipython3",
   "version": "3.13.1"
  }
 },
 "nbformat": 4,
 "nbformat_minor": 5
}
